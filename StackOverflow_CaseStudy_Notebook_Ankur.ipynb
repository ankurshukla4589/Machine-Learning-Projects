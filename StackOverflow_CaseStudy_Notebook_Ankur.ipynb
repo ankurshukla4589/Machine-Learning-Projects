{
 "cells": [
  {
   "cell_type": "code",
   "execution_count": 1,
   "metadata": {
    "colab": {},
    "colab_type": "code",
    "id": "51DTt5xDHRZk"
   },
   "outputs": [],
   "source": [
    "#Importing Libraries"
   ]
  },
  {
   "cell_type": "code",
   "execution_count": 109,
   "metadata": {
    "colab": {},
    "colab_type": "code",
    "id": "i1SYnhgbitLy"
   },
   "outputs": [],
   "source": [
    "import numpy as np\n",
    "import pandas as pd\n",
    "import seaborn as sns\n",
    "import matplotlib.pyplot as plt\n",
    "\n",
    "from collections import Counter\n",
    "\n",
    "import math\n",
    "import random\n",
    "\n",
    "\n",
    "#from wordcloud import WordCloud, STOPWORDS, ImageColorGenerator (Working in Google Colab)\n",
    "\n",
    "\n",
    "import requests, io"
   ]
  },
  {
   "cell_type": "code",
   "execution_count": null,
   "metadata": {
    "colab": {},
    "colab_type": "code",
    "id": "J22-iEa6PwJ7"
   },
   "outputs": [],
   "source": [
    "#Reading data for Questions"
   ]
  },
  {
   "cell_type": "code",
   "execution_count": 4,
   "metadata": {
    "colab": {
     "base_uri": "https://localhost:8080/",
     "height": 195
    },
    "colab_type": "code",
    "id": "WkOnVhG4i2br",
    "outputId": "1a1d1c17-eba1-416f-c18d-6006612248eb"
   },
   "outputs": [
    {
     "data": {
      "text/html": [
       "<div>\n",
       "<style scoped>\n",
       "    .dataframe tbody tr th:only-of-type {\n",
       "        vertical-align: middle;\n",
       "    }\n",
       "\n",
       "    .dataframe tbody tr th {\n",
       "        vertical-align: top;\n",
       "    }\n",
       "\n",
       "    .dataframe thead th {\n",
       "        text-align: right;\n",
       "    }\n",
       "</style>\n",
       "<table border=\"1\" class=\"dataframe\">\n",
       "  <thead>\n",
       "    <tr style=\"text-align: right;\">\n",
       "      <th></th>\n",
       "      <th>Id</th>\n",
       "      <th>OwnerUserId</th>\n",
       "      <th>CreationDate</th>\n",
       "      <th>ClosedDate</th>\n",
       "      <th>Score</th>\n",
       "      <th>Title</th>\n",
       "      <th>Body</th>\n",
       "    </tr>\n",
       "  </thead>\n",
       "  <tbody>\n",
       "    <tr>\n",
       "      <th>0</th>\n",
       "      <td>80</td>\n",
       "      <td>26.0</td>\n",
       "      <td>2008-08-01T13:57:07Z</td>\n",
       "      <td>NaN</td>\n",
       "      <td>26</td>\n",
       "      <td>SQLStatement.execute() - multiple queries in o...</td>\n",
       "      <td>&lt;p&gt;I've written a database generation script i...</td>\n",
       "    </tr>\n",
       "    <tr>\n",
       "      <th>1</th>\n",
       "      <td>90</td>\n",
       "      <td>58.0</td>\n",
       "      <td>2008-08-01T14:41:24Z</td>\n",
       "      <td>2012-12-26T03:45:49Z</td>\n",
       "      <td>144</td>\n",
       "      <td>Good branching and merging tutorials for Torto...</td>\n",
       "      <td>&lt;p&gt;Are there any really good tutorials explain...</td>\n",
       "    </tr>\n",
       "    <tr>\n",
       "      <th>2</th>\n",
       "      <td>120</td>\n",
       "      <td>83.0</td>\n",
       "      <td>2008-08-01T15:50:08Z</td>\n",
       "      <td>NaN</td>\n",
       "      <td>21</td>\n",
       "      <td>ASP.NET Site Maps</td>\n",
       "      <td>&lt;p&gt;Has anyone got experience creating &lt;strong&gt;...</td>\n",
       "    </tr>\n",
       "    <tr>\n",
       "      <th>3</th>\n",
       "      <td>180</td>\n",
       "      <td>2089740.0</td>\n",
       "      <td>2008-08-01T18:42:19Z</td>\n",
       "      <td>NaN</td>\n",
       "      <td>53</td>\n",
       "      <td>Function for creating color wheels</td>\n",
       "      <td>&lt;p&gt;This is something I've pseudo-solved many t...</td>\n",
       "    </tr>\n",
       "    <tr>\n",
       "      <th>4</th>\n",
       "      <td>260</td>\n",
       "      <td>91.0</td>\n",
       "      <td>2008-08-01T23:22:08Z</td>\n",
       "      <td>NaN</td>\n",
       "      <td>49</td>\n",
       "      <td>Adding scripting functionality to .NET applica...</td>\n",
       "      <td>&lt;p&gt;I have a little game written in C#. It uses...</td>\n",
       "    </tr>\n",
       "  </tbody>\n",
       "</table>\n",
       "</div>"
      ],
      "text/plain": [
       "    Id  OwnerUserId          CreationDate            ClosedDate  Score  \\\n",
       "0   80         26.0  2008-08-01T13:57:07Z                   NaN     26   \n",
       "1   90         58.0  2008-08-01T14:41:24Z  2012-12-26T03:45:49Z    144   \n",
       "2  120         83.0  2008-08-01T15:50:08Z                   NaN     21   \n",
       "3  180    2089740.0  2008-08-01T18:42:19Z                   NaN     53   \n",
       "4  260         91.0  2008-08-01T23:22:08Z                   NaN     49   \n",
       "\n",
       "                                               Title  \\\n",
       "0  SQLStatement.execute() - multiple queries in o...   \n",
       "1  Good branching and merging tutorials for Torto...   \n",
       "2                                  ASP.NET Site Maps   \n",
       "3                 Function for creating color wheels   \n",
       "4  Adding scripting functionality to .NET applica...   \n",
       "\n",
       "                                                Body  \n",
       "0  <p>I've written a database generation script i...  \n",
       "1  <p>Are there any really good tutorials explain...  \n",
       "2  <p>Has anyone got experience creating <strong>...  \n",
       "3  <p>This is something I've pseudo-solved many t...  \n",
       "4  <p>I have a little game written in C#. It uses...  "
      ]
     },
     "execution_count": 4,
     "metadata": {},
     "output_type": "execute_result"
    }
   ],
   "source": [
    "df_Q=pd.read_csv(\"https://stack-overflow-casestudy-datasets.s3.amazonaws.com/Questions.csv\",encoding=\"latin-1\")\n",
    "df_Q.head()"
   ]
  },
  {
   "cell_type": "code",
   "execution_count": 12,
   "metadata": {
    "colab": {},
    "colab_type": "code",
    "id": "374SuV5Ii_gq"
   },
   "outputs": [],
   "source": [
    "#Info about Question Data"
   ]
  },
  {
   "cell_type": "code",
   "execution_count": 5,
   "metadata": {
    "colab": {
     "base_uri": "https://localhost:8080/",
     "height": 263
    },
    "colab_type": "code",
    "id": "W9hdVDAq_5XJ",
    "outputId": "c12d04f2-9c9c-458d-d43f-da1d5a933227"
   },
   "outputs": [
    {
     "name": "stdout",
     "output_type": "stream",
     "text": [
      "<class 'pandas.core.frame.DataFrame'>\n",
      "RangeIndex: 1264216 entries, 0 to 1264215\n",
      "Data columns (total 7 columns):\n",
      " #   Column        Non-Null Count    Dtype  \n",
      "---  ------        --------------    -----  \n",
      " 0   Id            1264216 non-null  int64  \n",
      " 1   OwnerUserId   1249762 non-null  float64\n",
      " 2   CreationDate  1264216 non-null  object \n",
      " 3   ClosedDate    55959 non-null    object \n",
      " 4   Score         1264216 non-null  int64  \n",
      " 5   Title         1264216 non-null  object \n",
      " 6   Body          1264216 non-null  object \n",
      "dtypes: float64(1), int64(2), object(4)\n",
      "memory usage: 67.5+ MB\n"
     ]
    }
   ],
   "source": [
    "df_Q.info()"
   ]
  },
  {
   "cell_type": "code",
   "execution_count": 6,
   "metadata": {
    "colab": {},
    "colab_type": "code",
    "id": "ibLt1G_aCNYm"
   },
   "outputs": [],
   "source": [
    "#Shape of Question"
   ]
  },
  {
   "cell_type": "code",
   "execution_count": 7,
   "metadata": {
    "colab": {
     "base_uri": "https://localhost:8080/",
     "height": 34
    },
    "colab_type": "code",
    "id": "BFcfi4DpjgyR",
    "outputId": "ada8bf76-3a0c-418a-9778-b538eca698e7"
   },
   "outputs": [
    {
     "data": {
      "text/plain": [
       "(1264216, 7)"
      ]
     },
     "execution_count": 7,
     "metadata": {},
     "output_type": "execute_result"
    }
   ],
   "source": [
    "df_Q.shape"
   ]
  },
  {
   "cell_type": "code",
   "execution_count": 8,
   "metadata": {
    "colab": {},
    "colab_type": "code",
    "id": "uIOVro6036mN"
   },
   "outputs": [],
   "source": [
    "#Dropping unnecessary columns from Questions"
   ]
  },
  {
   "cell_type": "code",
   "execution_count": 9,
   "metadata": {
    "colab": {},
    "colab_type": "code",
    "id": "scBvnoUcjnPs"
   },
   "outputs": [],
   "source": [
    "df_Q.drop((\"Body\"), axis=1, inplace =True)"
   ]
  },
  {
   "cell_type": "code",
   "execution_count": 10,
   "metadata": {
    "colab": {},
    "colab_type": "code",
    "id": "PCk1_T34zSD8"
   },
   "outputs": [],
   "source": [
    "#Print the values"
   ]
  },
  {
   "cell_type": "code",
   "execution_count": 11,
   "metadata": {
    "colab": {
     "base_uri": "https://localhost:8080/",
     "height": 195
    },
    "colab_type": "code",
    "id": "yYsDtPPIjz1C",
    "outputId": "5d40ebc1-2388-407b-e9a7-9f7c7c2b4f6f"
   },
   "outputs": [
    {
     "data": {
      "text/html": [
       "<div>\n",
       "<style scoped>\n",
       "    .dataframe tbody tr th:only-of-type {\n",
       "        vertical-align: middle;\n",
       "    }\n",
       "\n",
       "    .dataframe tbody tr th {\n",
       "        vertical-align: top;\n",
       "    }\n",
       "\n",
       "    .dataframe thead th {\n",
       "        text-align: right;\n",
       "    }\n",
       "</style>\n",
       "<table border=\"1\" class=\"dataframe\">\n",
       "  <thead>\n",
       "    <tr style=\"text-align: right;\">\n",
       "      <th></th>\n",
       "      <th>Id</th>\n",
       "      <th>OwnerUserId</th>\n",
       "      <th>CreationDate</th>\n",
       "      <th>ClosedDate</th>\n",
       "      <th>Score</th>\n",
       "      <th>Title</th>\n",
       "    </tr>\n",
       "  </thead>\n",
       "  <tbody>\n",
       "    <tr>\n",
       "      <th>0</th>\n",
       "      <td>80</td>\n",
       "      <td>26.0</td>\n",
       "      <td>2008-08-01T13:57:07Z</td>\n",
       "      <td>NaN</td>\n",
       "      <td>26</td>\n",
       "      <td>SQLStatement.execute() - multiple queries in o...</td>\n",
       "    </tr>\n",
       "    <tr>\n",
       "      <th>1</th>\n",
       "      <td>90</td>\n",
       "      <td>58.0</td>\n",
       "      <td>2008-08-01T14:41:24Z</td>\n",
       "      <td>2012-12-26T03:45:49Z</td>\n",
       "      <td>144</td>\n",
       "      <td>Good branching and merging tutorials for Torto...</td>\n",
       "    </tr>\n",
       "    <tr>\n",
       "      <th>2</th>\n",
       "      <td>120</td>\n",
       "      <td>83.0</td>\n",
       "      <td>2008-08-01T15:50:08Z</td>\n",
       "      <td>NaN</td>\n",
       "      <td>21</td>\n",
       "      <td>ASP.NET Site Maps</td>\n",
       "    </tr>\n",
       "    <tr>\n",
       "      <th>3</th>\n",
       "      <td>180</td>\n",
       "      <td>2089740.0</td>\n",
       "      <td>2008-08-01T18:42:19Z</td>\n",
       "      <td>NaN</td>\n",
       "      <td>53</td>\n",
       "      <td>Function for creating color wheels</td>\n",
       "    </tr>\n",
       "    <tr>\n",
       "      <th>4</th>\n",
       "      <td>260</td>\n",
       "      <td>91.0</td>\n",
       "      <td>2008-08-01T23:22:08Z</td>\n",
       "      <td>NaN</td>\n",
       "      <td>49</td>\n",
       "      <td>Adding scripting functionality to .NET applica...</td>\n",
       "    </tr>\n",
       "  </tbody>\n",
       "</table>\n",
       "</div>"
      ],
      "text/plain": [
       "    Id  OwnerUserId          CreationDate            ClosedDate  Score  \\\n",
       "0   80         26.0  2008-08-01T13:57:07Z                   NaN     26   \n",
       "1   90         58.0  2008-08-01T14:41:24Z  2012-12-26T03:45:49Z    144   \n",
       "2  120         83.0  2008-08-01T15:50:08Z                   NaN     21   \n",
       "3  180    2089740.0  2008-08-01T18:42:19Z                   NaN     53   \n",
       "4  260         91.0  2008-08-01T23:22:08Z                   NaN     49   \n",
       "\n",
       "                                               Title  \n",
       "0  SQLStatement.execute() - multiple queries in o...  \n",
       "1  Good branching and merging tutorials for Torto...  \n",
       "2                                  ASP.NET Site Maps  \n",
       "3                 Function for creating color wheels  \n",
       "4  Adding scripting functionality to .NET applica...  "
      ]
     },
     "execution_count": 11,
     "metadata": {},
     "output_type": "execute_result"
    }
   ],
   "source": [
    "df_Q.head()"
   ]
  },
  {
   "cell_type": "code",
   "execution_count": 12,
   "metadata": {
    "colab": {},
    "colab_type": "code",
    "id": "-e7f-ecqhDBr"
   },
   "outputs": [],
   "source": [
    "#Checking for the null values"
   ]
  },
  {
   "cell_type": "code",
   "execution_count": 13,
   "metadata": {
    "colab": {
     "base_uri": "https://localhost:8080/",
     "height": 140
    },
    "colab_type": "code",
    "id": "aqPlGfGWj73O",
    "outputId": "b6d4274b-799e-458a-c6c7-1afe8021855d"
   },
   "outputs": [
    {
     "data": {
      "text/plain": [
       "Id                    0\n",
       "OwnerUserId       14454\n",
       "CreationDate          0\n",
       "ClosedDate      1208257\n",
       "Score                 0\n",
       "Title                 0\n",
       "dtype: int64"
      ]
     },
     "execution_count": 13,
     "metadata": {},
     "output_type": "execute_result"
    }
   ],
   "source": [
    "df_Q.isnull().sum()"
   ]
  },
  {
   "cell_type": "code",
   "execution_count": 14,
   "metadata": {
    "colab": {},
    "colab_type": "code",
    "id": "fkL8k35_KQUp"
   },
   "outputs": [],
   "source": [
    "#Reading dataframe for Answers"
   ]
  },
  {
   "cell_type": "code",
   "execution_count": 15,
   "metadata": {
    "colab": {
     "base_uri": "https://localhost:8080/",
     "height": 195
    },
    "colab_type": "code",
    "id": "vXpAy_b5lrqz",
    "outputId": "cb26092f-8800-49a5-cd8c-bdc429a623f8"
   },
   "outputs": [
    {
     "data": {
      "text/html": [
       "<div>\n",
       "<style scoped>\n",
       "    .dataframe tbody tr th:only-of-type {\n",
       "        vertical-align: middle;\n",
       "    }\n",
       "\n",
       "    .dataframe tbody tr th {\n",
       "        vertical-align: top;\n",
       "    }\n",
       "\n",
       "    .dataframe thead th {\n",
       "        text-align: right;\n",
       "    }\n",
       "</style>\n",
       "<table border=\"1\" class=\"dataframe\">\n",
       "  <thead>\n",
       "    <tr style=\"text-align: right;\">\n",
       "      <th></th>\n",
       "      <th>Id</th>\n",
       "      <th>OwnerUserId</th>\n",
       "      <th>CreationDate</th>\n",
       "      <th>ParentId</th>\n",
       "      <th>Score</th>\n",
       "      <th>Body</th>\n",
       "    </tr>\n",
       "  </thead>\n",
       "  <tbody>\n",
       "    <tr>\n",
       "      <th>0</th>\n",
       "      <td>92</td>\n",
       "      <td>61.0</td>\n",
       "      <td>2008-08-01T14:45:37Z</td>\n",
       "      <td>90</td>\n",
       "      <td>13</td>\n",
       "      <td>&lt;p&gt;&lt;a href=\"http://svnbook.red-bean.com/\"&gt;Vers...</td>\n",
       "    </tr>\n",
       "    <tr>\n",
       "      <th>1</th>\n",
       "      <td>124</td>\n",
       "      <td>26.0</td>\n",
       "      <td>2008-08-01T16:09:47Z</td>\n",
       "      <td>80</td>\n",
       "      <td>12</td>\n",
       "      <td>&lt;p&gt;I wound up using this. It is a kind of a ha...</td>\n",
       "    </tr>\n",
       "    <tr>\n",
       "      <th>2</th>\n",
       "      <td>199</td>\n",
       "      <td>50.0</td>\n",
       "      <td>2008-08-01T19:36:46Z</td>\n",
       "      <td>180</td>\n",
       "      <td>1</td>\n",
       "      <td>&lt;p&gt;I've read somewhere the human eye can't dis...</td>\n",
       "    </tr>\n",
       "    <tr>\n",
       "      <th>3</th>\n",
       "      <td>269</td>\n",
       "      <td>91.0</td>\n",
       "      <td>2008-08-01T23:49:57Z</td>\n",
       "      <td>260</td>\n",
       "      <td>4</td>\n",
       "      <td>&lt;p&gt;Yes, I thought about that, but I soon figur...</td>\n",
       "    </tr>\n",
       "    <tr>\n",
       "      <th>4</th>\n",
       "      <td>307</td>\n",
       "      <td>49.0</td>\n",
       "      <td>2008-08-02T01:49:46Z</td>\n",
       "      <td>260</td>\n",
       "      <td>28</td>\n",
       "      <td>&lt;p&gt;&lt;a href=\"http://www.codeproject.com/Article...</td>\n",
       "    </tr>\n",
       "  </tbody>\n",
       "</table>\n",
       "</div>"
      ],
      "text/plain": [
       "    Id  OwnerUserId          CreationDate  ParentId  Score  \\\n",
       "0   92         61.0  2008-08-01T14:45:37Z        90     13   \n",
       "1  124         26.0  2008-08-01T16:09:47Z        80     12   \n",
       "2  199         50.0  2008-08-01T19:36:46Z       180      1   \n",
       "3  269         91.0  2008-08-01T23:49:57Z       260      4   \n",
       "4  307         49.0  2008-08-02T01:49:46Z       260     28   \n",
       "\n",
       "                                                Body  \n",
       "0  <p><a href=\"http://svnbook.red-bean.com/\">Vers...  \n",
       "1  <p>I wound up using this. It is a kind of a ha...  \n",
       "2  <p>I've read somewhere the human eye can't dis...  \n",
       "3  <p>Yes, I thought about that, but I soon figur...  \n",
       "4  <p><a href=\"http://www.codeproject.com/Article...  "
      ]
     },
     "execution_count": 15,
     "metadata": {},
     "output_type": "execute_result"
    }
   ],
   "source": [
    "df_A=pd.read_csv(\"https://stack-overflow-casestudy-datasets.s3.amazonaws.com/Answers.csv\",encoding=\"latin-1\")\n",
    "df_A.head()"
   ]
  },
  {
   "cell_type": "code",
   "execution_count": 28,
   "metadata": {
    "colab": {},
    "colab_type": "code",
    "id": "dkfmwtPt_0Ok"
   },
   "outputs": [],
   "source": [
    "#Info about Answers Data"
   ]
  },
  {
   "cell_type": "code",
   "execution_count": 16,
   "metadata": {
    "colab": {
     "base_uri": "https://localhost:8080/",
     "height": 246
    },
    "colab_type": "code",
    "id": "BL0UG0Dao3wO",
    "outputId": "862f9f58-1ed3-4fe1-8087-2b65797ac086"
   },
   "outputs": [
    {
     "name": "stdout",
     "output_type": "stream",
     "text": [
      "<class 'pandas.core.frame.DataFrame'>\n",
      "RangeIndex: 2014516 entries, 0 to 2014515\n",
      "Data columns (total 6 columns):\n",
      " #   Column        Dtype  \n",
      "---  ------        -----  \n",
      " 0   Id            int64  \n",
      " 1   OwnerUserId   float64\n",
      " 2   CreationDate  object \n",
      " 3   ParentId      int64  \n",
      " 4   Score         int64  \n",
      " 5   Body          object \n",
      "dtypes: float64(1), int64(3), object(2)\n",
      "memory usage: 92.2+ MB\n"
     ]
    }
   ],
   "source": [
    "df_A.info()"
   ]
  },
  {
   "cell_type": "code",
   "execution_count": 17,
   "metadata": {
    "colab": {},
    "colab_type": "code",
    "id": "AWfAPjNWCUmo"
   },
   "outputs": [],
   "source": [
    "#Shape of Anwers Data"
   ]
  },
  {
   "cell_type": "code",
   "execution_count": 18,
   "metadata": {
    "colab": {
     "base_uri": "https://localhost:8080/",
     "height": 34
    },
    "colab_type": "code",
    "id": "pzF7pQ5mpTLB",
    "outputId": "0741bfdf-e8a1-44c7-df3e-b3eeef8d72e8"
   },
   "outputs": [
    {
     "data": {
      "text/plain": [
       "(2014516, 6)"
      ]
     },
     "execution_count": 18,
     "metadata": {},
     "output_type": "execute_result"
    }
   ],
   "source": [
    "df_A.shape"
   ]
  },
  {
   "cell_type": "code",
   "execution_count": 19,
   "metadata": {
    "colab": {},
    "colab_type": "code",
    "id": "rYku6QLVbFVA"
   },
   "outputs": [],
   "source": [
    "#Dropping unnecessary columns from Questions"
   ]
  },
  {
   "cell_type": "code",
   "execution_count": 20,
   "metadata": {
    "colab": {
     "base_uri": "https://localhost:8080/",
     "height": 195
    },
    "colab_type": "code",
    "id": "uaUdAFeipZKE",
    "outputId": "1a02ff82-bbdd-489a-d167-cab0bab3d07c"
   },
   "outputs": [
    {
     "data": {
      "text/html": [
       "<div>\n",
       "<style scoped>\n",
       "    .dataframe tbody tr th:only-of-type {\n",
       "        vertical-align: middle;\n",
       "    }\n",
       "\n",
       "    .dataframe tbody tr th {\n",
       "        vertical-align: top;\n",
       "    }\n",
       "\n",
       "    .dataframe thead th {\n",
       "        text-align: right;\n",
       "    }\n",
       "</style>\n",
       "<table border=\"1\" class=\"dataframe\">\n",
       "  <thead>\n",
       "    <tr style=\"text-align: right;\">\n",
       "      <th></th>\n",
       "      <th>Id</th>\n",
       "      <th>OwnerUserId</th>\n",
       "      <th>CreationDate</th>\n",
       "      <th>ParentId</th>\n",
       "      <th>Score</th>\n",
       "    </tr>\n",
       "  </thead>\n",
       "  <tbody>\n",
       "    <tr>\n",
       "      <th>0</th>\n",
       "      <td>92</td>\n",
       "      <td>61.0</td>\n",
       "      <td>2008-08-01T14:45:37Z</td>\n",
       "      <td>90</td>\n",
       "      <td>13</td>\n",
       "    </tr>\n",
       "    <tr>\n",
       "      <th>1</th>\n",
       "      <td>124</td>\n",
       "      <td>26.0</td>\n",
       "      <td>2008-08-01T16:09:47Z</td>\n",
       "      <td>80</td>\n",
       "      <td>12</td>\n",
       "    </tr>\n",
       "    <tr>\n",
       "      <th>2</th>\n",
       "      <td>199</td>\n",
       "      <td>50.0</td>\n",
       "      <td>2008-08-01T19:36:46Z</td>\n",
       "      <td>180</td>\n",
       "      <td>1</td>\n",
       "    </tr>\n",
       "    <tr>\n",
       "      <th>3</th>\n",
       "      <td>269</td>\n",
       "      <td>91.0</td>\n",
       "      <td>2008-08-01T23:49:57Z</td>\n",
       "      <td>260</td>\n",
       "      <td>4</td>\n",
       "    </tr>\n",
       "    <tr>\n",
       "      <th>4</th>\n",
       "      <td>307</td>\n",
       "      <td>49.0</td>\n",
       "      <td>2008-08-02T01:49:46Z</td>\n",
       "      <td>260</td>\n",
       "      <td>28</td>\n",
       "    </tr>\n",
       "  </tbody>\n",
       "</table>\n",
       "</div>"
      ],
      "text/plain": [
       "    Id  OwnerUserId          CreationDate  ParentId  Score\n",
       "0   92         61.0  2008-08-01T14:45:37Z        90     13\n",
       "1  124         26.0  2008-08-01T16:09:47Z        80     12\n",
       "2  199         50.0  2008-08-01T19:36:46Z       180      1\n",
       "3  269         91.0  2008-08-01T23:49:57Z       260      4\n",
       "4  307         49.0  2008-08-02T01:49:46Z       260     28"
      ]
     },
     "execution_count": 20,
     "metadata": {},
     "output_type": "execute_result"
    }
   ],
   "source": [
    "df_A.drop((\"Body\"), axis=1, inplace =True)\n",
    "df_A.head()"
   ]
  },
  {
   "cell_type": "code",
   "execution_count": 21,
   "metadata": {
    "colab": {},
    "colab_type": "code",
    "id": "ajiqAvQhsod2"
   },
   "outputs": [],
   "source": [
    "#Merging df_Q (Question) & df_A (Answers) with Id"
   ]
  },
  {
   "cell_type": "code",
   "execution_count": 22,
   "metadata": {
    "colab": {
     "base_uri": "https://localhost:8080/",
     "height": 195
    },
    "colab_type": "code",
    "id": "D_BEsgSus2yx",
    "outputId": "7e5f9cd9-329c-4c4c-a442-0de683443c8f"
   },
   "outputs": [
    {
     "data": {
      "text/html": [
       "<div>\n",
       "<style scoped>\n",
       "    .dataframe tbody tr th:only-of-type {\n",
       "        vertical-align: middle;\n",
       "    }\n",
       "\n",
       "    .dataframe tbody tr th {\n",
       "        vertical-align: top;\n",
       "    }\n",
       "\n",
       "    .dataframe thead th {\n",
       "        text-align: right;\n",
       "    }\n",
       "</style>\n",
       "<table border=\"1\" class=\"dataframe\">\n",
       "  <thead>\n",
       "    <tr style=\"text-align: right;\">\n",
       "      <th></th>\n",
       "      <th>Id_x</th>\n",
       "      <th>OwnerUserId_x</th>\n",
       "      <th>CreationDate_x</th>\n",
       "      <th>ClosedDate</th>\n",
       "      <th>Score_x</th>\n",
       "      <th>Title</th>\n",
       "      <th>Id_y</th>\n",
       "      <th>OwnerUserId_y</th>\n",
       "      <th>CreationDate_y</th>\n",
       "      <th>ParentId</th>\n",
       "      <th>Score_y</th>\n",
       "    </tr>\n",
       "  </thead>\n",
       "  <tbody>\n",
       "    <tr>\n",
       "      <th>0</th>\n",
       "      <td>80</td>\n",
       "      <td>26.0</td>\n",
       "      <td>2008-08-01T13:57:07Z</td>\n",
       "      <td>NaN</td>\n",
       "      <td>26</td>\n",
       "      <td>SQLStatement.execute() - multiple queries in o...</td>\n",
       "      <td>124</td>\n",
       "      <td>26.0</td>\n",
       "      <td>2008-08-01T16:09:47Z</td>\n",
       "      <td>80</td>\n",
       "      <td>12</td>\n",
       "    </tr>\n",
       "    <tr>\n",
       "      <th>1</th>\n",
       "      <td>80</td>\n",
       "      <td>26.0</td>\n",
       "      <td>2008-08-01T13:57:07Z</td>\n",
       "      <td>NaN</td>\n",
       "      <td>26</td>\n",
       "      <td>SQLStatement.execute() - multiple queries in o...</td>\n",
       "      <td>10008</td>\n",
       "      <td>1109.0</td>\n",
       "      <td>2008-08-13T16:09:09Z</td>\n",
       "      <td>80</td>\n",
       "      <td>6</td>\n",
       "    </tr>\n",
       "    <tr>\n",
       "      <th>2</th>\n",
       "      <td>80</td>\n",
       "      <td>26.0</td>\n",
       "      <td>2008-08-01T13:57:07Z</td>\n",
       "      <td>NaN</td>\n",
       "      <td>26</td>\n",
       "      <td>SQLStatement.execute() - multiple queries in o...</td>\n",
       "      <td>3770976</td>\n",
       "      <td>364174.0</td>\n",
       "      <td>2010-09-22T15:37:30Z</td>\n",
       "      <td>80</td>\n",
       "      <td>1</td>\n",
       "    </tr>\n",
       "    <tr>\n",
       "      <th>3</th>\n",
       "      <td>90</td>\n",
       "      <td>58.0</td>\n",
       "      <td>2008-08-01T14:41:24Z</td>\n",
       "      <td>2012-12-26T03:45:49Z</td>\n",
       "      <td>144</td>\n",
       "      <td>Good branching and merging tutorials for Torto...</td>\n",
       "      <td>92</td>\n",
       "      <td>61.0</td>\n",
       "      <td>2008-08-01T14:45:37Z</td>\n",
       "      <td>90</td>\n",
       "      <td>13</td>\n",
       "    </tr>\n",
       "    <tr>\n",
       "      <th>4</th>\n",
       "      <td>90</td>\n",
       "      <td>58.0</td>\n",
       "      <td>2008-08-01T14:41:24Z</td>\n",
       "      <td>2012-12-26T03:45:49Z</td>\n",
       "      <td>144</td>\n",
       "      <td>Good branching and merging tutorials for Torto...</td>\n",
       "      <td>202317</td>\n",
       "      <td>20709.0</td>\n",
       "      <td>2008-10-14T18:41:45Z</td>\n",
       "      <td>90</td>\n",
       "      <td>2</td>\n",
       "    </tr>\n",
       "  </tbody>\n",
       "</table>\n",
       "</div>"
      ],
      "text/plain": [
       "   Id_x  OwnerUserId_x        CreationDate_x            ClosedDate  Score_x  \\\n",
       "0    80           26.0  2008-08-01T13:57:07Z                   NaN       26   \n",
       "1    80           26.0  2008-08-01T13:57:07Z                   NaN       26   \n",
       "2    80           26.0  2008-08-01T13:57:07Z                   NaN       26   \n",
       "3    90           58.0  2008-08-01T14:41:24Z  2012-12-26T03:45:49Z      144   \n",
       "4    90           58.0  2008-08-01T14:41:24Z  2012-12-26T03:45:49Z      144   \n",
       "\n",
       "                                               Title     Id_y  OwnerUserId_y  \\\n",
       "0  SQLStatement.execute() - multiple queries in o...      124           26.0   \n",
       "1  SQLStatement.execute() - multiple queries in o...    10008         1109.0   \n",
       "2  SQLStatement.execute() - multiple queries in o...  3770976       364174.0   \n",
       "3  Good branching and merging tutorials for Torto...       92           61.0   \n",
       "4  Good branching and merging tutorials for Torto...   202317        20709.0   \n",
       "\n",
       "         CreationDate_y  ParentId  Score_y  \n",
       "0  2008-08-01T16:09:47Z        80       12  \n",
       "1  2008-08-13T16:09:09Z        80        6  \n",
       "2  2010-09-22T15:37:30Z        80        1  \n",
       "3  2008-08-01T14:45:37Z        90       13  \n",
       "4  2008-10-14T18:41:45Z        90        2  "
      ]
     },
     "execution_count": 22,
     "metadata": {},
     "output_type": "execute_result"
    }
   ],
   "source": [
    "df_QA = pd.merge(df_Q,df_A, how =\"right\",left_on=\"Id\",right_on=\"ParentId\")\n",
    "df_QA.head()"
   ]
  },
  {
   "cell_type": "code",
   "execution_count": 23,
   "metadata": {
    "colab": {},
    "colab_type": "code",
    "id": "Fx4Da5-itv7C"
   },
   "outputs": [],
   "source": [
    "#Info about datatypes of df_QA"
   ]
  },
  {
   "cell_type": "code",
   "execution_count": 24,
   "metadata": {
    "colab": {
     "base_uri": "https://localhost:8080/",
     "height": 334
    },
    "colab_type": "code",
    "id": "BYqRGHxnt0Uj",
    "outputId": "72aaa940-a23e-4de8-fb59-2665856ea564"
   },
   "outputs": [
    {
     "name": "stdout",
     "output_type": "stream",
     "text": [
      "<class 'pandas.core.frame.DataFrame'>\n",
      "Int64Index: 2014516 entries, 0 to 2014515\n",
      "Data columns (total 11 columns):\n",
      " #   Column          Dtype  \n",
      "---  ------          -----  \n",
      " 0   Id_x            int64  \n",
      " 1   OwnerUserId_x   float64\n",
      " 2   CreationDate_x  object \n",
      " 3   ClosedDate      object \n",
      " 4   Score_x         int64  \n",
      " 5   Title           object \n",
      " 6   Id_y            int64  \n",
      " 7   OwnerUserId_y   float64\n",
      " 8   CreationDate_y  object \n",
      " 9   ParentId        int64  \n",
      " 10  Score_y         int64  \n",
      "dtypes: float64(2), int64(5), object(4)\n",
      "memory usage: 184.4+ MB\n"
     ]
    }
   ],
   "source": [
    "df_QA.info()"
   ]
  },
  {
   "cell_type": "code",
   "execution_count": 25,
   "metadata": {
    "colab": {},
    "colab_type": "code",
    "id": "YlADdmxOuchS"
   },
   "outputs": [],
   "source": [
    "df_QA = df_QA.dropna(subset = [\"OwnerUserId_x\",\"OwnerUserId_y\"])"
   ]
  },
  {
   "cell_type": "code",
   "execution_count": null,
   "metadata": {},
   "outputs": [],
   "source": [
    "#Correcting the datatypes for further analysis"
   ]
  },
  {
   "cell_type": "code",
   "execution_count": 26,
   "metadata": {
    "colab": {
     "base_uri": "https://localhost:8080/",
     "height": 195
    },
    "colab_type": "code",
    "id": "uN50citHvEiK",
    "outputId": "fa4943a6-345a-446f-f993-2562b706ed5c"
   },
   "outputs": [
    {
     "data": {
      "text/html": [
       "<div>\n",
       "<style scoped>\n",
       "    .dataframe tbody tr th:only-of-type {\n",
       "        vertical-align: middle;\n",
       "    }\n",
       "\n",
       "    .dataframe tbody tr th {\n",
       "        vertical-align: top;\n",
       "    }\n",
       "\n",
       "    .dataframe thead th {\n",
       "        text-align: right;\n",
       "    }\n",
       "</style>\n",
       "<table border=\"1\" class=\"dataframe\">\n",
       "  <thead>\n",
       "    <tr style=\"text-align: right;\">\n",
       "      <th></th>\n",
       "      <th>Id_x</th>\n",
       "      <th>OwnerUserId_x</th>\n",
       "      <th>CreationDate_x</th>\n",
       "      <th>ClosedDate</th>\n",
       "      <th>Score_x</th>\n",
       "      <th>Title</th>\n",
       "      <th>Id_y</th>\n",
       "      <th>OwnerUserId_y</th>\n",
       "      <th>CreationDate_y</th>\n",
       "      <th>ParentId</th>\n",
       "      <th>Score_y</th>\n",
       "    </tr>\n",
       "  </thead>\n",
       "  <tbody>\n",
       "    <tr>\n",
       "      <th>0</th>\n",
       "      <td>80</td>\n",
       "      <td>26</td>\n",
       "      <td>2008-08-01T13:57:07Z</td>\n",
       "      <td>NaN</td>\n",
       "      <td>26</td>\n",
       "      <td>SQLStatement.execute() - multiple queries in o...</td>\n",
       "      <td>124</td>\n",
       "      <td>26</td>\n",
       "      <td>2008-08-01T16:09:47Z</td>\n",
       "      <td>80</td>\n",
       "      <td>12</td>\n",
       "    </tr>\n",
       "    <tr>\n",
       "      <th>1</th>\n",
       "      <td>80</td>\n",
       "      <td>26</td>\n",
       "      <td>2008-08-01T13:57:07Z</td>\n",
       "      <td>NaN</td>\n",
       "      <td>26</td>\n",
       "      <td>SQLStatement.execute() - multiple queries in o...</td>\n",
       "      <td>10008</td>\n",
       "      <td>1109</td>\n",
       "      <td>2008-08-13T16:09:09Z</td>\n",
       "      <td>80</td>\n",
       "      <td>6</td>\n",
       "    </tr>\n",
       "    <tr>\n",
       "      <th>2</th>\n",
       "      <td>80</td>\n",
       "      <td>26</td>\n",
       "      <td>2008-08-01T13:57:07Z</td>\n",
       "      <td>NaN</td>\n",
       "      <td>26</td>\n",
       "      <td>SQLStatement.execute() - multiple queries in o...</td>\n",
       "      <td>3770976</td>\n",
       "      <td>364174</td>\n",
       "      <td>2010-09-22T15:37:30Z</td>\n",
       "      <td>80</td>\n",
       "      <td>1</td>\n",
       "    </tr>\n",
       "    <tr>\n",
       "      <th>3</th>\n",
       "      <td>90</td>\n",
       "      <td>58</td>\n",
       "      <td>2008-08-01T14:41:24Z</td>\n",
       "      <td>2012-12-26T03:45:49Z</td>\n",
       "      <td>144</td>\n",
       "      <td>Good branching and merging tutorials for Torto...</td>\n",
       "      <td>92</td>\n",
       "      <td>61</td>\n",
       "      <td>2008-08-01T14:45:37Z</td>\n",
       "      <td>90</td>\n",
       "      <td>13</td>\n",
       "    </tr>\n",
       "    <tr>\n",
       "      <th>4</th>\n",
       "      <td>90</td>\n",
       "      <td>58</td>\n",
       "      <td>2008-08-01T14:41:24Z</td>\n",
       "      <td>2012-12-26T03:45:49Z</td>\n",
       "      <td>144</td>\n",
       "      <td>Good branching and merging tutorials for Torto...</td>\n",
       "      <td>202317</td>\n",
       "      <td>20709</td>\n",
       "      <td>2008-10-14T18:41:45Z</td>\n",
       "      <td>90</td>\n",
       "      <td>2</td>\n",
       "    </tr>\n",
       "  </tbody>\n",
       "</table>\n",
       "</div>"
      ],
      "text/plain": [
       "  Id_x OwnerUserId_x        CreationDate_x            ClosedDate  Score_x  \\\n",
       "0   80            26  2008-08-01T13:57:07Z                   NaN       26   \n",
       "1   80            26  2008-08-01T13:57:07Z                   NaN       26   \n",
       "2   80            26  2008-08-01T13:57:07Z                   NaN       26   \n",
       "3   90            58  2008-08-01T14:41:24Z  2012-12-26T03:45:49Z      144   \n",
       "4   90            58  2008-08-01T14:41:24Z  2012-12-26T03:45:49Z      144   \n",
       "\n",
       "                                               Title     Id_y OwnerUserId_y  \\\n",
       "0  SQLStatement.execute() - multiple queries in o...      124            26   \n",
       "1  SQLStatement.execute() - multiple queries in o...    10008          1109   \n",
       "2  SQLStatement.execute() - multiple queries in o...  3770976        364174   \n",
       "3  Good branching and merging tutorials for Torto...       92            61   \n",
       "4  Good branching and merging tutorials for Torto...   202317         20709   \n",
       "\n",
       "         CreationDate_y ParentId  Score_y  \n",
       "0  2008-08-01T16:09:47Z       80       12  \n",
       "1  2008-08-13T16:09:09Z       80        6  \n",
       "2  2010-09-22T15:37:30Z       80        1  \n",
       "3  2008-08-01T14:45:37Z       90       13  \n",
       "4  2008-10-14T18:41:45Z       90        2  "
      ]
     },
     "execution_count": 26,
     "metadata": {},
     "output_type": "execute_result"
    }
   ],
   "source": [
    "df_QA[[\"Id_x\",\"OwnerUserId_x\",\"OwnerUserId_y\",\"ParentId\",\"Id_y\"]] =df_QA[[\"Id_x\",\"OwnerUserId_x\",\"OwnerUserId_y\",\"ParentId\",\"Id_y\"]].astype('int64').astype('str')\n",
    "df_QA.head()"
   ]
  },
  {
   "cell_type": "code",
   "execution_count": null,
   "metadata": {},
   "outputs": [],
   "source": [
    "#Reading data for Tags"
   ]
  },
  {
   "cell_type": "code",
   "execution_count": 27,
   "metadata": {
    "colab": {
     "base_uri": "https://localhost:8080/",
     "height": 195
    },
    "colab_type": "code",
    "id": "LLHSFJUZtMzj",
    "outputId": "68d7d224-f927-4850-dafd-5c504354d1ee"
   },
   "outputs": [
    {
     "data": {
      "text/html": [
       "<div>\n",
       "<style scoped>\n",
       "    .dataframe tbody tr th:only-of-type {\n",
       "        vertical-align: middle;\n",
       "    }\n",
       "\n",
       "    .dataframe tbody tr th {\n",
       "        vertical-align: top;\n",
       "    }\n",
       "\n",
       "    .dataframe thead th {\n",
       "        text-align: right;\n",
       "    }\n",
       "</style>\n",
       "<table border=\"1\" class=\"dataframe\">\n",
       "  <thead>\n",
       "    <tr style=\"text-align: right;\">\n",
       "      <th></th>\n",
       "      <th>Id</th>\n",
       "      <th>Tag</th>\n",
       "    </tr>\n",
       "  </thead>\n",
       "  <tbody>\n",
       "    <tr>\n",
       "      <th>0</th>\n",
       "      <td>80</td>\n",
       "      <td>flex</td>\n",
       "    </tr>\n",
       "    <tr>\n",
       "      <th>1</th>\n",
       "      <td>80</td>\n",
       "      <td>actionscript-3</td>\n",
       "    </tr>\n",
       "    <tr>\n",
       "      <th>2</th>\n",
       "      <td>80</td>\n",
       "      <td>air</td>\n",
       "    </tr>\n",
       "    <tr>\n",
       "      <th>3</th>\n",
       "      <td>90</td>\n",
       "      <td>svn</td>\n",
       "    </tr>\n",
       "    <tr>\n",
       "      <th>4</th>\n",
       "      <td>90</td>\n",
       "      <td>tortoisesvn</td>\n",
       "    </tr>\n",
       "  </tbody>\n",
       "</table>\n",
       "</div>"
      ],
      "text/plain": [
       "   Id             Tag\n",
       "0  80            flex\n",
       "1  80  actionscript-3\n",
       "2  80             air\n",
       "3  90             svn\n",
       "4  90     tortoisesvn"
      ]
     },
     "execution_count": 27,
     "metadata": {},
     "output_type": "execute_result"
    }
   ],
   "source": [
    "df_T=pd.read_csv(\"https://stack-overflow-casestudy-datasets.s3.amazonaws.com/Tags.csv\",encoding=\"latin-1\")\n",
    "df_T.head()"
   ]
  },
  {
   "cell_type": "code",
   "execution_count": null,
   "metadata": {},
   "outputs": [],
   "source": [
    "#Checking info about Tags"
   ]
  },
  {
   "cell_type": "code",
   "execution_count": 28,
   "metadata": {
    "colab": {
     "base_uri": "https://localhost:8080/",
     "height": 175
    },
    "colab_type": "code",
    "id": "JyBo6FhZ_q9w",
    "outputId": "b1ecab12-2efb-4e37-b509-32cf246b6069"
   },
   "outputs": [
    {
     "name": "stdout",
     "output_type": "stream",
     "text": [
      "<class 'pandas.core.frame.DataFrame'>\n",
      "RangeIndex: 3750994 entries, 0 to 3750993\n",
      "Data columns (total 2 columns):\n",
      " #   Column  Dtype \n",
      "---  ------  ----- \n",
      " 0   Id      int64 \n",
      " 1   Tag     object\n",
      "dtypes: int64(1), object(1)\n",
      "memory usage: 57.2+ MB\n"
     ]
    }
   ],
   "source": [
    "df_T.info()"
   ]
  },
  {
   "cell_type": "code",
   "execution_count": null,
   "metadata": {},
   "outputs": [],
   "source": [
    "#Checing Shape of tag"
   ]
  },
  {
   "cell_type": "code",
   "execution_count": 29,
   "metadata": {
    "colab": {
     "base_uri": "https://localhost:8080/",
     "height": 34
    },
    "colab_type": "code",
    "id": "NZ5qfluNCZAb",
    "outputId": "bf8f8962-c24d-42fc-d5eb-af56e9a79ba0"
   },
   "outputs": [
    {
     "data": {
      "text/plain": [
       "(3750994, 2)"
      ]
     },
     "execution_count": 29,
     "metadata": {},
     "output_type": "execute_result"
    }
   ],
   "source": [
    "df_T.shape"
   ]
  },
  {
   "cell_type": "code",
   "execution_count": null,
   "metadata": {},
   "outputs": [],
   "source": [
    "#Correcting the datatypes for Tag values"
   ]
  },
  {
   "cell_type": "code",
   "execution_count": 30,
   "metadata": {
    "colab": {},
    "colab_type": "code",
    "id": "Op-Cye9dcl_D"
   },
   "outputs": [],
   "source": [
    "df_T[\"Id\"]=df_T[\"Id\"].astype(str)\n",
    "df_T[\"Tag\"]=df_T[\"Tag\"].astype(str)"
   ]
  },
  {
   "cell_type": "code",
   "execution_count": null,
   "metadata": {},
   "outputs": [],
   "source": [
    "#Using group by Id for the different tags"
   ]
  },
  {
   "cell_type": "code",
   "execution_count": 31,
   "metadata": {
    "colab": {},
    "colab_type": "code",
    "id": "tjVaeAoPdaHz"
   },
   "outputs": [],
   "source": [
    "df_T_group = df_T.groupby([\"Id\"])[\"Tag\"].apply(\",\".join).reset_index()"
   ]
  },
  {
   "cell_type": "code",
   "execution_count": null,
   "metadata": {},
   "outputs": [],
   "source": [
    "#Printing data for first five rows"
   ]
  },
  {
   "cell_type": "code",
   "execution_count": 32,
   "metadata": {
    "colab": {
     "base_uri": "https://localhost:8080/",
     "height": 195
    },
    "colab_type": "code",
    "id": "jqZLYPm9eXpR",
    "outputId": "4cfeba5b-bac7-40db-896d-668f847708c2"
   },
   "outputs": [
    {
     "data": {
      "text/html": [
       "<div>\n",
       "<style scoped>\n",
       "    .dataframe tbody tr th:only-of-type {\n",
       "        vertical-align: middle;\n",
       "    }\n",
       "\n",
       "    .dataframe tbody tr th {\n",
       "        vertical-align: top;\n",
       "    }\n",
       "\n",
       "    .dataframe thead th {\n",
       "        text-align: right;\n",
       "    }\n",
       "</style>\n",
       "<table border=\"1\" class=\"dataframe\">\n",
       "  <thead>\n",
       "    <tr style=\"text-align: right;\">\n",
       "      <th></th>\n",
       "      <th>Id</th>\n",
       "      <th>Tag</th>\n",
       "    </tr>\n",
       "  </thead>\n",
       "  <tbody>\n",
       "    <tr>\n",
       "      <th>0</th>\n",
       "      <td>1000000</td>\n",
       "      <td>vb6,progress-bar</td>\n",
       "    </tr>\n",
       "    <tr>\n",
       "      <th>1</th>\n",
       "      <td>10000020</td>\n",
       "      <td>jquery,google-apps-script</td>\n",
       "    </tr>\n",
       "    <tr>\n",
       "      <th>2</th>\n",
       "      <td>10000030</td>\n",
       "      <td>ios,mkmapview,mkannotationview</td>\n",
       "    </tr>\n",
       "    <tr>\n",
       "      <th>3</th>\n",
       "      <td>10000120</td>\n",
       "      <td>ios,uikit,interface-builder</td>\n",
       "    </tr>\n",
       "    <tr>\n",
       "      <th>4</th>\n",
       "      <td>10000150</td>\n",
       "      <td>r</td>\n",
       "    </tr>\n",
       "  </tbody>\n",
       "</table>\n",
       "</div>"
      ],
      "text/plain": [
       "         Id                             Tag\n",
       "0   1000000                vb6,progress-bar\n",
       "1  10000020       jquery,google-apps-script\n",
       "2  10000030  ios,mkmapview,mkannotationview\n",
       "3  10000120     ios,uikit,interface-builder\n",
       "4  10000150                               r"
      ]
     },
     "execution_count": 32,
     "metadata": {},
     "output_type": "execute_result"
    }
   ],
   "source": [
    "df_T_group.head()"
   ]
  },
  {
   "cell_type": "code",
   "execution_count": 33,
   "metadata": {
    "colab": {},
    "colab_type": "code",
    "id": "2jIacnlryHtg"
   },
   "outputs": [],
   "source": [
    "#Merging Questions-Answers df_QA into Tags df_T (i.e. df_T_group)"
   ]
  },
  {
   "cell_type": "code",
   "execution_count": 34,
   "metadata": {
    "colab": {
     "base_uri": "https://localhost:8080/",
     "height": 279
    },
    "colab_type": "code",
    "id": "elNPbh7jzACJ",
    "outputId": "747103c4-bf92-46db-cb1d-13b728615a61"
   },
   "outputs": [
    {
     "data": {
      "text/html": [
       "<div>\n",
       "<style scoped>\n",
       "    .dataframe tbody tr th:only-of-type {\n",
       "        vertical-align: middle;\n",
       "    }\n",
       "\n",
       "    .dataframe tbody tr th {\n",
       "        vertical-align: top;\n",
       "    }\n",
       "\n",
       "    .dataframe thead th {\n",
       "        text-align: right;\n",
       "    }\n",
       "</style>\n",
       "<table border=\"1\" class=\"dataframe\">\n",
       "  <thead>\n",
       "    <tr style=\"text-align: right;\">\n",
       "      <th></th>\n",
       "      <th>Id_x</th>\n",
       "      <th>OwnerUserId_x</th>\n",
       "      <th>CreationDate_x</th>\n",
       "      <th>ClosedDate</th>\n",
       "      <th>Score_x</th>\n",
       "      <th>Title</th>\n",
       "      <th>Id_y</th>\n",
       "      <th>OwnerUserId_y</th>\n",
       "      <th>CreationDate_y</th>\n",
       "      <th>ParentId</th>\n",
       "      <th>Score_y</th>\n",
       "      <th>Id</th>\n",
       "      <th>Tag</th>\n",
       "    </tr>\n",
       "  </thead>\n",
       "  <tbody>\n",
       "    <tr>\n",
       "      <th>0</th>\n",
       "      <td>80</td>\n",
       "      <td>26</td>\n",
       "      <td>2008-08-01T13:57:07Z</td>\n",
       "      <td>NaN</td>\n",
       "      <td>26</td>\n",
       "      <td>SQLStatement.execute() - multiple queries in o...</td>\n",
       "      <td>124</td>\n",
       "      <td>26</td>\n",
       "      <td>2008-08-01T16:09:47Z</td>\n",
       "      <td>80</td>\n",
       "      <td>12</td>\n",
       "      <td>80</td>\n",
       "      <td>flex,actionscript-3,air</td>\n",
       "    </tr>\n",
       "    <tr>\n",
       "      <th>1</th>\n",
       "      <td>80</td>\n",
       "      <td>26</td>\n",
       "      <td>2008-08-01T13:57:07Z</td>\n",
       "      <td>NaN</td>\n",
       "      <td>26</td>\n",
       "      <td>SQLStatement.execute() - multiple queries in o...</td>\n",
       "      <td>10008</td>\n",
       "      <td>1109</td>\n",
       "      <td>2008-08-13T16:09:09Z</td>\n",
       "      <td>80</td>\n",
       "      <td>6</td>\n",
       "      <td>80</td>\n",
       "      <td>flex,actionscript-3,air</td>\n",
       "    </tr>\n",
       "    <tr>\n",
       "      <th>2</th>\n",
       "      <td>80</td>\n",
       "      <td>26</td>\n",
       "      <td>2008-08-01T13:57:07Z</td>\n",
       "      <td>NaN</td>\n",
       "      <td>26</td>\n",
       "      <td>SQLStatement.execute() - multiple queries in o...</td>\n",
       "      <td>3770976</td>\n",
       "      <td>364174</td>\n",
       "      <td>2010-09-22T15:37:30Z</td>\n",
       "      <td>80</td>\n",
       "      <td>1</td>\n",
       "      <td>80</td>\n",
       "      <td>flex,actionscript-3,air</td>\n",
       "    </tr>\n",
       "    <tr>\n",
       "      <th>3</th>\n",
       "      <td>90</td>\n",
       "      <td>58</td>\n",
       "      <td>2008-08-01T14:41:24Z</td>\n",
       "      <td>2012-12-26T03:45:49Z</td>\n",
       "      <td>144</td>\n",
       "      <td>Good branching and merging tutorials for Torto...</td>\n",
       "      <td>92</td>\n",
       "      <td>61</td>\n",
       "      <td>2008-08-01T14:45:37Z</td>\n",
       "      <td>90</td>\n",
       "      <td>13</td>\n",
       "      <td>90</td>\n",
       "      <td>svn,tortoisesvn,branch,branching-and-merging</td>\n",
       "    </tr>\n",
       "    <tr>\n",
       "      <th>4</th>\n",
       "      <td>90</td>\n",
       "      <td>58</td>\n",
       "      <td>2008-08-01T14:41:24Z</td>\n",
       "      <td>2012-12-26T03:45:49Z</td>\n",
       "      <td>144</td>\n",
       "      <td>Good branching and merging tutorials for Torto...</td>\n",
       "      <td>202317</td>\n",
       "      <td>20709</td>\n",
       "      <td>2008-10-14T18:41:45Z</td>\n",
       "      <td>90</td>\n",
       "      <td>2</td>\n",
       "      <td>90</td>\n",
       "      <td>svn,tortoisesvn,branch,branching-and-merging</td>\n",
       "    </tr>\n",
       "  </tbody>\n",
       "</table>\n",
       "</div>"
      ],
      "text/plain": [
       "  Id_x OwnerUserId_x        CreationDate_x            ClosedDate  Score_x  \\\n",
       "0   80            26  2008-08-01T13:57:07Z                   NaN       26   \n",
       "1   80            26  2008-08-01T13:57:07Z                   NaN       26   \n",
       "2   80            26  2008-08-01T13:57:07Z                   NaN       26   \n",
       "3   90            58  2008-08-01T14:41:24Z  2012-12-26T03:45:49Z      144   \n",
       "4   90            58  2008-08-01T14:41:24Z  2012-12-26T03:45:49Z      144   \n",
       "\n",
       "                                               Title     Id_y OwnerUserId_y  \\\n",
       "0  SQLStatement.execute() - multiple queries in o...      124            26   \n",
       "1  SQLStatement.execute() - multiple queries in o...    10008          1109   \n",
       "2  SQLStatement.execute() - multiple queries in o...  3770976        364174   \n",
       "3  Good branching and merging tutorials for Torto...       92            61   \n",
       "4  Good branching and merging tutorials for Torto...   202317         20709   \n",
       "\n",
       "         CreationDate_y ParentId  Score_y  Id  \\\n",
       "0  2008-08-01T16:09:47Z       80       12  80   \n",
       "1  2008-08-13T16:09:09Z       80        6  80   \n",
       "2  2010-09-22T15:37:30Z       80        1  80   \n",
       "3  2008-08-01T14:45:37Z       90       13  90   \n",
       "4  2008-10-14T18:41:45Z       90        2  90   \n",
       "\n",
       "                                            Tag  \n",
       "0                       flex,actionscript-3,air  \n",
       "1                       flex,actionscript-3,air  \n",
       "2                       flex,actionscript-3,air  \n",
       "3  svn,tortoisesvn,branch,branching-and-merging  \n",
       "4  svn,tortoisesvn,branch,branching-and-merging  "
      ]
     },
     "execution_count": 34,
     "metadata": {},
     "output_type": "execute_result"
    }
   ],
   "source": [
    "df_QAT =pd.merge(df_QA,df_T_group, how =\"inner\", left_on=\"Id_x\",right_on =\"Id\")\n",
    "df_QAT.head()"
   ]
  },
  {
   "cell_type": "code",
   "execution_count": null,
   "metadata": {},
   "outputs": [],
   "source": [
    "#Count values for Tag "
   ]
  },
  {
   "cell_type": "code",
   "execution_count": 103,
   "metadata": {
    "colab": {
     "base_uri": "https://localhost:8080/",
     "height": 386
    },
    "colab_type": "code",
    "id": "DfyUEter3hI1",
    "outputId": "a20ea0fd-074c-4add-fc81-bd0a80e4e1a1"
   },
   "outputs": [
    {
     "data": {
      "text/plain": [
       "java                          15576\n",
       "javascript,jquery             14580\n",
       "android                       13840\n",
       "php                           13748\n",
       "javascript                    12984\n",
       "html,css                      10747\n",
       "python                        10548\n",
       "jquery                        10318\n",
       "c#                             9941\n",
       "c++                            8414\n",
       "php,mysql                      8107\n",
       "mysql                          6190\n",
       "c                              5747\n",
       "javascript,jquery,html         5115\n",
       "mysql,sql                      4221\n",
       "javascript,jquery,html,css     4207\n",
       "r                              4172\n",
       "java,android                   4120\n",
       "sql,sql-server                 3742\n",
       "javascript,html                3688\n",
       "Name: Tag, dtype: int64"
      ]
     },
     "execution_count": 103,
     "metadata": {},
     "output_type": "execute_result"
    }
   ],
   "source": [
    "df_QAT['Tag'].value_counts().head(20)\n",
    "\n"
   ]
  },
  {
   "cell_type": "code",
   "execution_count": null,
   "metadata": {},
   "outputs": [],
   "source": [
    "#Plot bar h for Tag value counts"
   ]
  },
  {
   "cell_type": "code",
   "execution_count": 36,
   "metadata": {
    "colab": {
     "base_uri": "https://localhost:8080/",
     "height": 282
    },
    "colab_type": "code",
    "id": "uvLvsA0pyFJN",
    "outputId": "6e971c41-c04a-44ca-877b-cadbe7955d12"
   },
   "outputs": [
    {
     "data": {
      "text/plain": [
       "<matplotlib.axes._subplots.AxesSubplot at 0x220a8543288>"
      ]
     },
     "execution_count": 36,
     "metadata": {},
     "output_type": "execute_result"
    },
    {
     "data": {
      "image/png": "[encoded data removed]",
      "text/plain": [
       "<Figure size 432x288 with 1 Axes>"
      ]
     },
     "metadata": {
      "needs_background": "light"
     },
     "output_type": "display_data"
    }
   ],
   "source": [
    "df_QAT.Tag.value_counts().head(20).plot.barh()"
   ]
  },
  {
   "cell_type": "code",
   "execution_count": null,
   "metadata": {},
   "outputs": [],
   "source": [
    "#Reading Values for User data"
   ]
  },
  {
   "cell_type": "code",
   "execution_count": 37,
   "metadata": {
    "colab": {
     "base_uri": "https://localhost:8080/",
     "height": 195
    },
    "colab_type": "code",
    "id": "CEYE3WBUSCn3",
    "outputId": "9a664ac8-4cfe-4b9b-ad75-c2ef92ecae5e"
   },
   "outputs": [
    {
     "data": {
      "text/html": [
       "<div>\n",
       "<style scoped>\n",
       "    .dataframe tbody tr th:only-of-type {\n",
       "        vertical-align: middle;\n",
       "    }\n",
       "\n",
       "    .dataframe tbody tr th {\n",
       "        vertical-align: top;\n",
       "    }\n",
       "\n",
       "    .dataframe thead th {\n",
       "        text-align: right;\n",
       "    }\n",
       "</style>\n",
       "<table border=\"1\" class=\"dataframe\">\n",
       "  <thead>\n",
       "    <tr style=\"text-align: right;\">\n",
       "      <th></th>\n",
       "      <th>Unnamed: 0</th>\n",
       "      <th>id</th>\n",
       "      <th>display_name</th>\n",
       "      <th>creation_date</th>\n",
       "      <th>last_access_date</th>\n",
       "      <th>reputation</th>\n",
       "      <th>up_votes</th>\n",
       "      <th>down_votes</th>\n",
       "      <th>views</th>\n",
       "    </tr>\n",
       "  </thead>\n",
       "  <tbody>\n",
       "    <tr>\n",
       "      <th>0</th>\n",
       "      <td>0</td>\n",
       "      <td>26</td>\n",
       "      <td>Shawn</td>\n",
       "      <td>2008-08-01 12:18:14.52 UTC</td>\n",
       "      <td>2018-04-11 04:40:35.66 UTC</td>\n",
       "      <td>11820</td>\n",
       "      <td>565</td>\n",
       "      <td>67</td>\n",
       "      <td>3547</td>\n",
       "    </tr>\n",
       "    <tr>\n",
       "      <th>1</th>\n",
       "      <td>1</td>\n",
       "      <td>26</td>\n",
       "      <td>Shawn</td>\n",
       "      <td>2008-08-01 12:18:14.52 UTC</td>\n",
       "      <td>2018-04-11 04:40:35.66 UTC</td>\n",
       "      <td>11820</td>\n",
       "      <td>565</td>\n",
       "      <td>67</td>\n",
       "      <td>3547</td>\n",
       "    </tr>\n",
       "    <tr>\n",
       "      <th>2</th>\n",
       "      <td>2</td>\n",
       "      <td>26</td>\n",
       "      <td>Shawn</td>\n",
       "      <td>2008-08-01 12:18:14.52 UTC</td>\n",
       "      <td>2018-04-11 04:40:35.66 UTC</td>\n",
       "      <td>11820</td>\n",
       "      <td>565</td>\n",
       "      <td>67</td>\n",
       "      <td>3547</td>\n",
       "    </tr>\n",
       "    <tr>\n",
       "      <th>3</th>\n",
       "      <td>3</td>\n",
       "      <td>26</td>\n",
       "      <td>Shawn</td>\n",
       "      <td>2008-08-01 12:18:14.52 UTC</td>\n",
       "      <td>2018-04-11 04:40:35.66 UTC</td>\n",
       "      <td>11820</td>\n",
       "      <td>565</td>\n",
       "      <td>67</td>\n",
       "      <td>3547</td>\n",
       "    </tr>\n",
       "    <tr>\n",
       "      <th>4</th>\n",
       "      <td>4</td>\n",
       "      <td>26</td>\n",
       "      <td>Shawn</td>\n",
       "      <td>2008-08-01 12:18:14.52 UTC</td>\n",
       "      <td>2018-04-11 04:40:35.66 UTC</td>\n",
       "      <td>11820</td>\n",
       "      <td>565</td>\n",
       "      <td>67</td>\n",
       "      <td>3547</td>\n",
       "    </tr>\n",
       "  </tbody>\n",
       "</table>\n",
       "</div>"
      ],
      "text/plain": [
       "   Unnamed: 0  id display_name               creation_date  \\\n",
       "0           0  26        Shawn  2008-08-01 12:18:14.52 UTC   \n",
       "1           1  26        Shawn  2008-08-01 12:18:14.52 UTC   \n",
       "2           2  26        Shawn  2008-08-01 12:18:14.52 UTC   \n",
       "3           3  26        Shawn  2008-08-01 12:18:14.52 UTC   \n",
       "4           4  26        Shawn  2008-08-01 12:18:14.52 UTC   \n",
       "\n",
       "             last_access_date  reputation  up_votes  down_votes  views  \n",
       "0  2018-04-11 04:40:35.66 UTC       11820       565          67   3547  \n",
       "1  2018-04-11 04:40:35.66 UTC       11820       565          67   3547  \n",
       "2  2018-04-11 04:40:35.66 UTC       11820       565          67   3547  \n",
       "3  2018-04-11 04:40:35.66 UTC       11820       565          67   3547  \n",
       "4  2018-04-11 04:40:35.66 UTC       11820       565          67   3547  "
      ]
     },
     "execution_count": 37,
     "metadata": {},
     "output_type": "execute_result"
    }
   ],
   "source": [
    "df_U=pd.read_csv(\"https://stack-overflow-casestudy-datasets.s3.amazonaws.com/Users.csv\",encoding=\"latin-1\")\n",
    "df_U.head()"
   ]
  },
  {
   "cell_type": "code",
   "execution_count": null,
   "metadata": {},
   "outputs": [],
   "source": [
    "#Info about User data"
   ]
  },
  {
   "cell_type": "code",
   "execution_count": 38,
   "metadata": {
    "colab": {
     "base_uri": "https://localhost:8080/",
     "height": 298
    },
    "colab_type": "code",
    "id": "z65jyYFISYoD",
    "outputId": "c872d8a1-cf75-4600-8be8-e7da50593662"
   },
   "outputs": [
    {
     "name": "stdout",
     "output_type": "stream",
     "text": [
      "<class 'pandas.core.frame.DataFrame'>\n",
      "RangeIndex: 1990480 entries, 0 to 1990479\n",
      "Data columns (total 9 columns):\n",
      " #   Column            Dtype \n",
      "---  ------            ----- \n",
      " 0   Unnamed: 0        int64 \n",
      " 1   id                int64 \n",
      " 2   display_name      object\n",
      " 3   creation_date     object\n",
      " 4   last_access_date  object\n",
      " 5   reputation        int64 \n",
      " 6   up_votes          int64 \n",
      " 7   down_votes        int64 \n",
      " 8   views             int64 \n",
      "dtypes: int64(6), object(3)\n",
      "memory usage: 136.7+ MB\n"
     ]
    }
   ],
   "source": [
    "df_U.info()"
   ]
  },
  {
   "cell_type": "code",
   "execution_count": null,
   "metadata": {},
   "outputs": [],
   "source": [
    "#Shape about User data"
   ]
  },
  {
   "cell_type": "code",
   "execution_count": 39,
   "metadata": {
    "colab": {
     "base_uri": "https://localhost:8080/",
     "height": 34
    },
    "colab_type": "code",
    "id": "6DqdbJSrCm9R",
    "outputId": "67a8bf5a-33d2-4556-dbe7-952e0652c2f7"
   },
   "outputs": [
    {
     "data": {
      "text/plain": [
       "(1990480, 9)"
      ]
     },
     "execution_count": 39,
     "metadata": {},
     "output_type": "execute_result"
    }
   ],
   "source": [
    "df_U.shape"
   ]
  },
  {
   "cell_type": "code",
   "execution_count": null,
   "metadata": {},
   "outputs": [],
   "source": [
    "#Checking for null values"
   ]
  },
  {
   "cell_type": "code",
   "execution_count": 40,
   "metadata": {
    "colab": {
     "base_uri": "https://localhost:8080/",
     "height": 193
    },
    "colab_type": "code",
    "id": "kw8dlPGDiRq3",
    "outputId": "6f7920b0-0924-4891-cbf1-adff597b5578"
   },
   "outputs": [
    {
     "data": {
      "text/plain": [
       "Unnamed: 0            0\n",
       "id                    0\n",
       "display_name        136\n",
       "creation_date         0\n",
       "last_access_date      0\n",
       "reputation            0\n",
       "up_votes              0\n",
       "down_votes            0\n",
       "views                 0\n",
       "dtype: int64"
      ]
     },
     "execution_count": 40,
     "metadata": {},
     "output_type": "execute_result"
    }
   ],
   "source": [
    "df_U.isnull().sum()"
   ]
  },
  {
   "cell_type": "code",
   "execution_count": null,
   "metadata": {},
   "outputs": [],
   "source": [
    "#Dropping unneceesary column form User dataframe"
   ]
  },
  {
   "cell_type": "code",
   "execution_count": 41,
   "metadata": {
    "colab": {},
    "colab_type": "code",
    "id": "tjakBV3I387K"
   },
   "outputs": [],
   "source": [
    "df_U.drop((\"Unnamed: 0\") ,axis =1, inplace =True)"
   ]
  },
  {
   "cell_type": "code",
   "execution_count": null,
   "metadata": {},
   "outputs": [],
   "source": [
    "#Prinitng values for Users"
   ]
  },
  {
   "cell_type": "code",
   "execution_count": 42,
   "metadata": {
    "colab": {
     "base_uri": "https://localhost:8080/",
     "height": 195
    },
    "colab_type": "code",
    "id": "tipbuUT02Ip5",
    "outputId": "3836fd73-4bd4-432e-e600-474e28956707"
   },
   "outputs": [
    {
     "data": {
      "text/html": [
       "<div>\n",
       "<style scoped>\n",
       "    .dataframe tbody tr th:only-of-type {\n",
       "        vertical-align: middle;\n",
       "    }\n",
       "\n",
       "    .dataframe tbody tr th {\n",
       "        vertical-align: top;\n",
       "    }\n",
       "\n",
       "    .dataframe thead th {\n",
       "        text-align: right;\n",
       "    }\n",
       "</style>\n",
       "<table border=\"1\" class=\"dataframe\">\n",
       "  <thead>\n",
       "    <tr style=\"text-align: right;\">\n",
       "      <th></th>\n",
       "      <th>id</th>\n",
       "      <th>display_name</th>\n",
       "      <th>creation_date</th>\n",
       "      <th>last_access_date</th>\n",
       "      <th>reputation</th>\n",
       "      <th>up_votes</th>\n",
       "      <th>down_votes</th>\n",
       "      <th>views</th>\n",
       "    </tr>\n",
       "  </thead>\n",
       "  <tbody>\n",
       "    <tr>\n",
       "      <th>0</th>\n",
       "      <td>26</td>\n",
       "      <td>Shawn</td>\n",
       "      <td>2008-08-01 12:18:14.52 UTC</td>\n",
       "      <td>2018-04-11 04:40:35.66 UTC</td>\n",
       "      <td>11820</td>\n",
       "      <td>565</td>\n",
       "      <td>67</td>\n",
       "      <td>3547</td>\n",
       "    </tr>\n",
       "    <tr>\n",
       "      <th>1</th>\n",
       "      <td>26</td>\n",
       "      <td>Shawn</td>\n",
       "      <td>2008-08-01 12:18:14.52 UTC</td>\n",
       "      <td>2018-04-11 04:40:35.66 UTC</td>\n",
       "      <td>11820</td>\n",
       "      <td>565</td>\n",
       "      <td>67</td>\n",
       "      <td>3547</td>\n",
       "    </tr>\n",
       "    <tr>\n",
       "      <th>2</th>\n",
       "      <td>26</td>\n",
       "      <td>Shawn</td>\n",
       "      <td>2008-08-01 12:18:14.52 UTC</td>\n",
       "      <td>2018-04-11 04:40:35.66 UTC</td>\n",
       "      <td>11820</td>\n",
       "      <td>565</td>\n",
       "      <td>67</td>\n",
       "      <td>3547</td>\n",
       "    </tr>\n",
       "    <tr>\n",
       "      <th>3</th>\n",
       "      <td>26</td>\n",
       "      <td>Shawn</td>\n",
       "      <td>2008-08-01 12:18:14.52 UTC</td>\n",
       "      <td>2018-04-11 04:40:35.66 UTC</td>\n",
       "      <td>11820</td>\n",
       "      <td>565</td>\n",
       "      <td>67</td>\n",
       "      <td>3547</td>\n",
       "    </tr>\n",
       "    <tr>\n",
       "      <th>4</th>\n",
       "      <td>26</td>\n",
       "      <td>Shawn</td>\n",
       "      <td>2008-08-01 12:18:14.52 UTC</td>\n",
       "      <td>2018-04-11 04:40:35.66 UTC</td>\n",
       "      <td>11820</td>\n",
       "      <td>565</td>\n",
       "      <td>67</td>\n",
       "      <td>3547</td>\n",
       "    </tr>\n",
       "  </tbody>\n",
       "</table>\n",
       "</div>"
      ],
      "text/plain": [
       "   id display_name               creation_date            last_access_date  \\\n",
       "0  26        Shawn  2008-08-01 12:18:14.52 UTC  2018-04-11 04:40:35.66 UTC   \n",
       "1  26        Shawn  2008-08-01 12:18:14.52 UTC  2018-04-11 04:40:35.66 UTC   \n",
       "2  26        Shawn  2008-08-01 12:18:14.52 UTC  2018-04-11 04:40:35.66 UTC   \n",
       "3  26        Shawn  2008-08-01 12:18:14.52 UTC  2018-04-11 04:40:35.66 UTC   \n",
       "4  26        Shawn  2008-08-01 12:18:14.52 UTC  2018-04-11 04:40:35.66 UTC   \n",
       "\n",
       "   reputation  up_votes  down_votes  views  \n",
       "0       11820       565          67   3547  \n",
       "1       11820       565          67   3547  \n",
       "2       11820       565          67   3547  \n",
       "3       11820       565          67   3547  \n",
       "4       11820       565          67   3547  "
      ]
     },
     "execution_count": 42,
     "metadata": {},
     "output_type": "execute_result"
    }
   ],
   "source": [
    "df_U.head()"
   ]
  },
  {
   "cell_type": "code",
   "execution_count": null,
   "metadata": {},
   "outputs": [],
   "source": [
    "#Converting datatypes as required"
   ]
  },
  {
   "cell_type": "code",
   "execution_count": 43,
   "metadata": {
    "colab": {},
    "colab_type": "code",
    "id": "ZAbByhrd4bPm"
   },
   "outputs": [],
   "source": [
    "df_U[\"id\"] =df_U[\"id\"].astype('int64').astype('str')\n"
   ]
  },
  {
   "cell_type": "code",
   "execution_count": 44,
   "metadata": {
    "colab": {},
    "colab_type": "code",
    "id": "75TowZ9x5ut6"
   },
   "outputs": [],
   "source": [
    "## **************Analysis of Data starts with different analysis and all three objective asked in the case study below*************"
   ]
  },
  {
   "cell_type": "code",
   "execution_count": 45,
   "metadata": {
    "colab": {
     "base_uri": "https://localhost:8080/",
     "height": 282
    },
    "colab_type": "code",
    "id": "XPWtzBPF6Pyh",
    "outputId": "84dbbcff-7356-45bd-da5a-2a60ca1ae67c"
   },
   "outputs": [
    {
     "data": {
      "text/plain": [
       "<matplotlib.axes._subplots.AxesSubplot at 0x2220fe7e488>"
      ]
     },
     "execution_count": 45,
     "metadata": {},
     "output_type": "execute_result"
    },
    {
     "data": {
      "image/png": "[encoded data removed]",
      "text/plain": [
       "<Figure size 432x288 with 1 Axes>"
      ]
     },
     "metadata": {
      "needs_background": "light"
     },
     "output_type": "display_data"
    }
   ],
   "source": [
    "\n",
    "Top20_groupedtags = df_QAT['Tag'].value_counts().head(20)\n",
    "Top20_groupedtags.plot.barh(x=\"tag\",y=\"count\", rot=0)"
   ]
  },
  {
   "cell_type": "code",
   "execution_count": 46,
   "metadata": {
    "colab": {
     "base_uri": "https://localhost:8080/",
     "height": 282
    },
    "colab_type": "code",
    "id": "9ZazHoZC7gLg",
    "outputId": "b1f93c68-be29-4faf-8b4c-79b657b032b3"
   },
   "outputs": [
    {
     "data": {
      "text/plain": [
       "<matplotlib.axes._subplots.AxesSubplot at 0x22209aa4b48>"
      ]
     },
     "execution_count": 46,
     "metadata": {},
     "output_type": "execute_result"
    },
    {
     "data": {
      "image/png": "[encoded data removed]",
      "text/plain": [
       "<Figure size 432x288 with 1 Axes>"
      ]
     },
     "metadata": {
      "needs_background": "light"
     },
     "output_type": "display_data"
    }
   ],
   "source": [
    "Top20_tags = df_T[\"Tag\"].value_counts().head(20)\n",
    "\n",
    "Top20_tags.plot.barh(x=\"tag\",y=\"count\", rot=0)"
   ]
  },
  {
   "cell_type": "code",
   "execution_count": 47,
   "metadata": {
    "colab": {},
    "colab_type": "code",
    "id": "k0OU404I6t4V"
   },
   "outputs": [],
   "source": [
    "#Top 5 Questions"
   ]
  },
  {
   "cell_type": "code",
   "execution_count": 48,
   "metadata": {
    "colab": {
     "base_uri": "https://localhost:8080/",
     "height": 369
    },
    "colab_type": "code",
    "id": "rflLuMDoZKhF",
    "outputId": "4bc0c502-9c98-464d-c204-b013085f03c0"
   },
   "outputs": [
    {
     "name": "stdout",
     "output_type": "stream",
     "text": [
      "Question Id: 348170\n",
      "Score: 5190\n",
      "Question Title\t: How to undo 'git add' before commit? \n",
      "\n",
      "Question Id: 40480\n",
      "Score: 3613\n",
      "Question Title\t: Is Java \"pass-by-reference\" or \"pass-by-value\"? \n",
      "\n",
      "Question Id: 406230\n",
      "Score: 2537\n",
      "Question Title\t: Regular expression to match line that doesn't contain a word? \n",
      "\n",
      "Question Id: 520650\n",
      "Score: 2399\n",
      "Question Title\t: Make an existing Git branch track a remote branch? \n",
      "\n",
      "Question Id: 2669690\n",
      "Score: 2363\n",
      "Question Title\t: Why does Google prepend while(1); to their JSON responses? \n",
      "\n"
     ]
    }
   ],
   "source": [
    "top_Questions=list(zip(df_Q[\"Id\"],df_Q[\"Score\"],df_Q[\"Title\"]))\n",
    "\n",
    "top_Questions.sort(key = lambda x: x[1],reverse =True)\n",
    "\n",
    "for id, score, title in top_Questions[:5]:\n",
    "  print(\"Question Id:\",id)\n",
    "  print(\"Score:\",score)\n",
    "  print(\"Question Title\\t:\",title,'\\n')"
   ]
  },
  {
   "cell_type": "code",
   "execution_count": 49,
   "metadata": {
    "colab": {},
    "colab_type": "code",
    "id": "sQ2BKBa-bUKl"
   },
   "outputs": [],
   "source": [
    "#Top 5 Answers"
   ]
  },
  {
   "cell_type": "code",
   "execution_count": 50,
   "metadata": {
    "colab": {
     "base_uri": "https://localhost:8080/",
     "height": 369
    },
    "colab_type": "code",
    "id": "kA6372hYbhXB",
    "outputId": "8fb9d45f-326c-46d2-a3db-8ee062b8f45d"
   },
   "outputs": [
    {
     "name": "stdout",
     "output_type": "stream",
     "text": [
      "Answer Id: 348234\n",
      "Score: 5718\n",
      "OwnerUserId \t: 39933.0 \n",
      "\n",
      "Answer Id: 406408\n",
      "Score: 3637\n",
      "OwnerUserId \t: 50476.0 \n",
      "\n",
      "Answer Id: 4366748\n",
      "Score: 3549\n",
      "OwnerUserId \t: 227665.0 \n",
      "\n",
      "Answer Id: 40523\n",
      "Score: 3038\n",
      "OwnerUserId \t: 4192.0 \n",
      "\n",
      "Answer Id: 16957078\n",
      "Score: 2988\n",
      "OwnerUserId \t: 2231815.0 \n",
      "\n"
     ]
    }
   ],
   "source": [
    "top_Answers=list(zip(df_A[\"Id\"],df_A[\"Score\"],df_A[\"OwnerUserId\"]))\n",
    "\n",
    "top_Answers.sort(key = lambda x: x[1],reverse =True)\n",
    "\n",
    "for id, score, owneruserid in top_Answers[:5]:\n",
    "  print(\"Answer Id:\",id)\n",
    "  print(\"Score:\",score)\n",
    "  print(\"OwnerUserId \\t:\",owneruserid,'\\n')"
   ]
  },
  {
   "cell_type": "code",
   "execution_count": null,
   "metadata": {},
   "outputs": [],
   "source": [
    "##Merging QAT dataframe created above with users to get final table"
   ]
  },
  {
   "cell_type": "code",
   "execution_count": 51,
   "metadata": {
    "colab": {
     "base_uri": "https://localhost:8080/",
     "height": 383
    },
    "colab_type": "code",
    "id": "pnCpPih-Ybfd",
    "outputId": "16293d38-42d3-453e-d285-6ab7271c855b"
   },
   "outputs": [
    {
     "data": {
      "text/html": [
       "<div>\n",
       "<style scoped>\n",
       "    .dataframe tbody tr th:only-of-type {\n",
       "        vertical-align: middle;\n",
       "    }\n",
       "\n",
       "    .dataframe tbody tr th {\n",
       "        vertical-align: top;\n",
       "    }\n",
       "\n",
       "    .dataframe thead th {\n",
       "        text-align: right;\n",
       "    }\n",
       "</style>\n",
       "<table border=\"1\" class=\"dataframe\">\n",
       "  <thead>\n",
       "    <tr style=\"text-align: right;\">\n",
       "      <th></th>\n",
       "      <th>Id_x</th>\n",
       "      <th>OwnerUserId_x</th>\n",
       "      <th>CreationDate_x</th>\n",
       "      <th>ClosedDate</th>\n",
       "      <th>Score_x</th>\n",
       "      <th>Title</th>\n",
       "      <th>Id_y</th>\n",
       "      <th>OwnerUserId_y</th>\n",
       "      <th>CreationDate_y</th>\n",
       "      <th>ParentId</th>\n",
       "      <th>...</th>\n",
       "      <th>Id</th>\n",
       "      <th>Tag</th>\n",
       "      <th>id</th>\n",
       "      <th>display_name</th>\n",
       "      <th>creation_date</th>\n",
       "      <th>last_access_date</th>\n",
       "      <th>reputation</th>\n",
       "      <th>up_votes</th>\n",
       "      <th>down_votes</th>\n",
       "      <th>views</th>\n",
       "    </tr>\n",
       "  </thead>\n",
       "  <tbody>\n",
       "    <tr>\n",
       "      <th>0</th>\n",
       "      <td>80</td>\n",
       "      <td>26</td>\n",
       "      <td>2008-08-01T13:57:07Z</td>\n",
       "      <td>NaN</td>\n",
       "      <td>26.0</td>\n",
       "      <td>SQLStatement.execute() - multiple queries in o...</td>\n",
       "      <td>124</td>\n",
       "      <td>26</td>\n",
       "      <td>2008-08-01T16:09:47Z</td>\n",
       "      <td>80</td>\n",
       "      <td>...</td>\n",
       "      <td>80</td>\n",
       "      <td>flex,actionscript-3,air</td>\n",
       "      <td>80</td>\n",
       "      <td>alumb</td>\n",
       "      <td>2008-08-01 16:11:11.427 UTC</td>\n",
       "      <td>2019-08-30 16:34:24.06 UTC</td>\n",
       "      <td>3241</td>\n",
       "      <td>145</td>\n",
       "      <td>7</td>\n",
       "      <td>1006</td>\n",
       "    </tr>\n",
       "    <tr>\n",
       "      <th>1</th>\n",
       "      <td>80</td>\n",
       "      <td>26</td>\n",
       "      <td>2008-08-01T13:57:07Z</td>\n",
       "      <td>NaN</td>\n",
       "      <td>26.0</td>\n",
       "      <td>SQLStatement.execute() - multiple queries in o...</td>\n",
       "      <td>10008</td>\n",
       "      <td>1109</td>\n",
       "      <td>2008-08-13T16:09:09Z</td>\n",
       "      <td>80</td>\n",
       "      <td>...</td>\n",
       "      <td>80</td>\n",
       "      <td>flex,actionscript-3,air</td>\n",
       "      <td>80</td>\n",
       "      <td>alumb</td>\n",
       "      <td>2008-08-01 16:11:11.427 UTC</td>\n",
       "      <td>2019-08-30 16:34:24.06 UTC</td>\n",
       "      <td>3241</td>\n",
       "      <td>145</td>\n",
       "      <td>7</td>\n",
       "      <td>1006</td>\n",
       "    </tr>\n",
       "    <tr>\n",
       "      <th>2</th>\n",
       "      <td>80</td>\n",
       "      <td>26</td>\n",
       "      <td>2008-08-01T13:57:07Z</td>\n",
       "      <td>NaN</td>\n",
       "      <td>26.0</td>\n",
       "      <td>SQLStatement.execute() - multiple queries in o...</td>\n",
       "      <td>3770976</td>\n",
       "      <td>364174</td>\n",
       "      <td>2010-09-22T15:37:30Z</td>\n",
       "      <td>80</td>\n",
       "      <td>...</td>\n",
       "      <td>80</td>\n",
       "      <td>flex,actionscript-3,air</td>\n",
       "      <td>80</td>\n",
       "      <td>alumb</td>\n",
       "      <td>2008-08-01 16:11:11.427 UTC</td>\n",
       "      <td>2019-08-30 16:34:24.06 UTC</td>\n",
       "      <td>3241</td>\n",
       "      <td>145</td>\n",
       "      <td>7</td>\n",
       "      <td>1006</td>\n",
       "    </tr>\n",
       "    <tr>\n",
       "      <th>3</th>\n",
       "      <td>120</td>\n",
       "      <td>83</td>\n",
       "      <td>2008-08-01T15:50:08Z</td>\n",
       "      <td>NaN</td>\n",
       "      <td>21.0</td>\n",
       "      <td>ASP.NET Site Maps</td>\n",
       "      <td>124363</td>\n",
       "      <td>12734</td>\n",
       "      <td>2008-09-23T22:41:11Z</td>\n",
       "      <td>120</td>\n",
       "      <td>...</td>\n",
       "      <td>120</td>\n",
       "      <td>sql,asp.net,sitemap</td>\n",
       "      <td>120</td>\n",
       "      <td>hitec</td>\n",
       "      <td>2008-08-02 06:23:02.97 UTC</td>\n",
       "      <td>2019-08-21 04:52:50.33 UTC</td>\n",
       "      <td>970</td>\n",
       "      <td>142</td>\n",
       "      <td>0</td>\n",
       "      <td>285</td>\n",
       "    </tr>\n",
       "    <tr>\n",
       "      <th>4</th>\n",
       "      <td>120</td>\n",
       "      <td>83</td>\n",
       "      <td>2008-08-01T15:50:08Z</td>\n",
       "      <td>NaN</td>\n",
       "      <td>21.0</td>\n",
       "      <td>ASP.NET Site Maps</td>\n",
       "      <td>124363</td>\n",
       "      <td>12734</td>\n",
       "      <td>2008-09-23T22:41:11Z</td>\n",
       "      <td>120</td>\n",
       "      <td>...</td>\n",
       "      <td>120</td>\n",
       "      <td>sql,asp.net,sitemap</td>\n",
       "      <td>120</td>\n",
       "      <td>hitec</td>\n",
       "      <td>2008-08-02 06:23:02.97 UTC</td>\n",
       "      <td>2019-08-21 04:52:50.33 UTC</td>\n",
       "      <td>970</td>\n",
       "      <td>142</td>\n",
       "      <td>0</td>\n",
       "      <td>285</td>\n",
       "    </tr>\n",
       "  </tbody>\n",
       "</table>\n",
       "<p>5 rows × 21 columns</p>\n",
       "</div>"
      ],
      "text/plain": [
       "  Id_x OwnerUserId_x        CreationDate_x ClosedDate  Score_x  \\\n",
       "0   80            26  2008-08-01T13:57:07Z        NaN     26.0   \n",
       "1   80            26  2008-08-01T13:57:07Z        NaN     26.0   \n",
       "2   80            26  2008-08-01T13:57:07Z        NaN     26.0   \n",
       "3  120            83  2008-08-01T15:50:08Z        NaN     21.0   \n",
       "4  120            83  2008-08-01T15:50:08Z        NaN     21.0   \n",
       "\n",
       "                                               Title     Id_y OwnerUserId_y  \\\n",
       "0  SQLStatement.execute() - multiple queries in o...      124            26   \n",
       "1  SQLStatement.execute() - multiple queries in o...    10008          1109   \n",
       "2  SQLStatement.execute() - multiple queries in o...  3770976        364174   \n",
       "3                                  ASP.NET Site Maps   124363         12734   \n",
       "4                                  ASP.NET Site Maps   124363         12734   \n",
       "\n",
       "         CreationDate_y ParentId  ...   Id                      Tag   id  \\\n",
       "0  2008-08-01T16:09:47Z       80  ...   80  flex,actionscript-3,air   80   \n",
       "1  2008-08-13T16:09:09Z       80  ...   80  flex,actionscript-3,air   80   \n",
       "2  2010-09-22T15:37:30Z       80  ...   80  flex,actionscript-3,air   80   \n",
       "3  2008-09-23T22:41:11Z      120  ...  120      sql,asp.net,sitemap  120   \n",
       "4  2008-09-23T22:41:11Z      120  ...  120      sql,asp.net,sitemap  120   \n",
       "\n",
       "  display_name                creation_date            last_access_date  \\\n",
       "0        alumb  2008-08-01 16:11:11.427 UTC  2019-08-30 16:34:24.06 UTC   \n",
       "1        alumb  2008-08-01 16:11:11.427 UTC  2019-08-30 16:34:24.06 UTC   \n",
       "2        alumb  2008-08-01 16:11:11.427 UTC  2019-08-30 16:34:24.06 UTC   \n",
       "3        hitec   2008-08-02 06:23:02.97 UTC  2019-08-21 04:52:50.33 UTC   \n",
       "4        hitec   2008-08-02 06:23:02.97 UTC  2019-08-21 04:52:50.33 UTC   \n",
       "\n",
       "  reputation  up_votes  down_votes  views  \n",
       "0       3241       145           7   1006  \n",
       "1       3241       145           7   1006  \n",
       "2       3241       145           7   1006  \n",
       "3        970       142           0    285  \n",
       "4        970       142           0    285  \n",
       "\n",
       "[5 rows x 21 columns]"
      ]
     },
     "execution_count": 51,
     "metadata": {},
     "output_type": "execute_result"
    }
   ],
   "source": [
    "df_QATU =pd.merge(df_QAT,df_U,how =\"right\", left_on=\"Id_x\",right_on =\"id\")\n",
    "df_QATU.head()"
   ]
  },
  {
   "cell_type": "code",
   "execution_count": null,
   "metadata": {},
   "outputs": [],
   "source": [
    "#Printing values for QATU dataframe"
   ]
  },
  {
   "cell_type": "code",
   "execution_count": 52,
   "metadata": {
    "colab": {
     "base_uri": "https://localhost:8080/",
     "height": 383
    },
    "colab_type": "code",
    "id": "mkrOzTSPoi1N",
    "outputId": "b1a5343d-928b-464f-ad39-449cd770c3fa"
   },
   "outputs": [
    {
     "data": {
      "text/html": [
       "<div>\n",
       "<style scoped>\n",
       "    .dataframe tbody tr th:only-of-type {\n",
       "        vertical-align: middle;\n",
       "    }\n",
       "\n",
       "    .dataframe tbody tr th {\n",
       "        vertical-align: top;\n",
       "    }\n",
       "\n",
       "    .dataframe thead th {\n",
       "        text-align: right;\n",
       "    }\n",
       "</style>\n",
       "<table border=\"1\" class=\"dataframe\">\n",
       "  <thead>\n",
       "    <tr style=\"text-align: right;\">\n",
       "      <th></th>\n",
       "      <th>Id_x</th>\n",
       "      <th>OwnerUserId_x</th>\n",
       "      <th>CreationDate_x</th>\n",
       "      <th>ClosedDate</th>\n",
       "      <th>Score_x</th>\n",
       "      <th>Title</th>\n",
       "      <th>Id_y</th>\n",
       "      <th>OwnerUserId_y</th>\n",
       "      <th>CreationDate_y</th>\n",
       "      <th>ParentId</th>\n",
       "      <th>...</th>\n",
       "      <th>Id</th>\n",
       "      <th>Tag</th>\n",
       "      <th>id</th>\n",
       "      <th>display_name</th>\n",
       "      <th>creation_date</th>\n",
       "      <th>last_access_date</th>\n",
       "      <th>reputation</th>\n",
       "      <th>up_votes</th>\n",
       "      <th>down_votes</th>\n",
       "      <th>views</th>\n",
       "    </tr>\n",
       "  </thead>\n",
       "  <tbody>\n",
       "    <tr>\n",
       "      <th>0</th>\n",
       "      <td>80</td>\n",
       "      <td>26</td>\n",
       "      <td>2008-08-01T13:57:07Z</td>\n",
       "      <td>NaN</td>\n",
       "      <td>26.0</td>\n",
       "      <td>SQLStatement.execute() - multiple queries in o...</td>\n",
       "      <td>124</td>\n",
       "      <td>26</td>\n",
       "      <td>2008-08-01T16:09:47Z</td>\n",
       "      <td>80</td>\n",
       "      <td>...</td>\n",
       "      <td>80</td>\n",
       "      <td>flex,actionscript-3,air</td>\n",
       "      <td>80</td>\n",
       "      <td>alumb</td>\n",
       "      <td>2008-08-01 16:11:11.427 UTC</td>\n",
       "      <td>2019-08-30 16:34:24.06 UTC</td>\n",
       "      <td>3241</td>\n",
       "      <td>145</td>\n",
       "      <td>7</td>\n",
       "      <td>1006</td>\n",
       "    </tr>\n",
       "    <tr>\n",
       "      <th>1</th>\n",
       "      <td>80</td>\n",
       "      <td>26</td>\n",
       "      <td>2008-08-01T13:57:07Z</td>\n",
       "      <td>NaN</td>\n",
       "      <td>26.0</td>\n",
       "      <td>SQLStatement.execute() - multiple queries in o...</td>\n",
       "      <td>10008</td>\n",
       "      <td>1109</td>\n",
       "      <td>2008-08-13T16:09:09Z</td>\n",
       "      <td>80</td>\n",
       "      <td>...</td>\n",
       "      <td>80</td>\n",
       "      <td>flex,actionscript-3,air</td>\n",
       "      <td>80</td>\n",
       "      <td>alumb</td>\n",
       "      <td>2008-08-01 16:11:11.427 UTC</td>\n",
       "      <td>2019-08-30 16:34:24.06 UTC</td>\n",
       "      <td>3241</td>\n",
       "      <td>145</td>\n",
       "      <td>7</td>\n",
       "      <td>1006</td>\n",
       "    </tr>\n",
       "    <tr>\n",
       "      <th>2</th>\n",
       "      <td>80</td>\n",
       "      <td>26</td>\n",
       "      <td>2008-08-01T13:57:07Z</td>\n",
       "      <td>NaN</td>\n",
       "      <td>26.0</td>\n",
       "      <td>SQLStatement.execute() - multiple queries in o...</td>\n",
       "      <td>3770976</td>\n",
       "      <td>364174</td>\n",
       "      <td>2010-09-22T15:37:30Z</td>\n",
       "      <td>80</td>\n",
       "      <td>...</td>\n",
       "      <td>80</td>\n",
       "      <td>flex,actionscript-3,air</td>\n",
       "      <td>80</td>\n",
       "      <td>alumb</td>\n",
       "      <td>2008-08-01 16:11:11.427 UTC</td>\n",
       "      <td>2019-08-30 16:34:24.06 UTC</td>\n",
       "      <td>3241</td>\n",
       "      <td>145</td>\n",
       "      <td>7</td>\n",
       "      <td>1006</td>\n",
       "    </tr>\n",
       "    <tr>\n",
       "      <th>3</th>\n",
       "      <td>120</td>\n",
       "      <td>83</td>\n",
       "      <td>2008-08-01T15:50:08Z</td>\n",
       "      <td>NaN</td>\n",
       "      <td>21.0</td>\n",
       "      <td>ASP.NET Site Maps</td>\n",
       "      <td>124363</td>\n",
       "      <td>12734</td>\n",
       "      <td>2008-09-23T22:41:11Z</td>\n",
       "      <td>120</td>\n",
       "      <td>...</td>\n",
       "      <td>120</td>\n",
       "      <td>sql,asp.net,sitemap</td>\n",
       "      <td>120</td>\n",
       "      <td>hitec</td>\n",
       "      <td>2008-08-02 06:23:02.97 UTC</td>\n",
       "      <td>2019-08-21 04:52:50.33 UTC</td>\n",
       "      <td>970</td>\n",
       "      <td>142</td>\n",
       "      <td>0</td>\n",
       "      <td>285</td>\n",
       "    </tr>\n",
       "    <tr>\n",
       "      <th>4</th>\n",
       "      <td>120</td>\n",
       "      <td>83</td>\n",
       "      <td>2008-08-01T15:50:08Z</td>\n",
       "      <td>NaN</td>\n",
       "      <td>21.0</td>\n",
       "      <td>ASP.NET Site Maps</td>\n",
       "      <td>124363</td>\n",
       "      <td>12734</td>\n",
       "      <td>2008-09-23T22:41:11Z</td>\n",
       "      <td>120</td>\n",
       "      <td>...</td>\n",
       "      <td>120</td>\n",
       "      <td>sql,asp.net,sitemap</td>\n",
       "      <td>120</td>\n",
       "      <td>hitec</td>\n",
       "      <td>2008-08-02 06:23:02.97 UTC</td>\n",
       "      <td>2019-08-21 04:52:50.33 UTC</td>\n",
       "      <td>970</td>\n",
       "      <td>142</td>\n",
       "      <td>0</td>\n",
       "      <td>285</td>\n",
       "    </tr>\n",
       "  </tbody>\n",
       "</table>\n",
       "<p>5 rows × 21 columns</p>\n",
       "</div>"
      ],
      "text/plain": [
       "  Id_x OwnerUserId_x        CreationDate_x ClosedDate  Score_x  \\\n",
       "0   80            26  2008-08-01T13:57:07Z        NaN     26.0   \n",
       "1   80            26  2008-08-01T13:57:07Z        NaN     26.0   \n",
       "2   80            26  2008-08-01T13:57:07Z        NaN     26.0   \n",
       "3  120            83  2008-08-01T15:50:08Z        NaN     21.0   \n",
       "4  120            83  2008-08-01T15:50:08Z        NaN     21.0   \n",
       "\n",
       "                                               Title     Id_y OwnerUserId_y  \\\n",
       "0  SQLStatement.execute() - multiple queries in o...      124            26   \n",
       "1  SQLStatement.execute() - multiple queries in o...    10008          1109   \n",
       "2  SQLStatement.execute() - multiple queries in o...  3770976        364174   \n",
       "3                                  ASP.NET Site Maps   124363         12734   \n",
       "4                                  ASP.NET Site Maps   124363         12734   \n",
       "\n",
       "         CreationDate_y ParentId  ...   Id                      Tag   id  \\\n",
       "0  2008-08-01T16:09:47Z       80  ...   80  flex,actionscript-3,air   80   \n",
       "1  2008-08-13T16:09:09Z       80  ...   80  flex,actionscript-3,air   80   \n",
       "2  2010-09-22T15:37:30Z       80  ...   80  flex,actionscript-3,air   80   \n",
       "3  2008-09-23T22:41:11Z      120  ...  120      sql,asp.net,sitemap  120   \n",
       "4  2008-09-23T22:41:11Z      120  ...  120      sql,asp.net,sitemap  120   \n",
       "\n",
       "  display_name                creation_date            last_access_date  \\\n",
       "0        alumb  2008-08-01 16:11:11.427 UTC  2019-08-30 16:34:24.06 UTC   \n",
       "1        alumb  2008-08-01 16:11:11.427 UTC  2019-08-30 16:34:24.06 UTC   \n",
       "2        alumb  2008-08-01 16:11:11.427 UTC  2019-08-30 16:34:24.06 UTC   \n",
       "3        hitec   2008-08-02 06:23:02.97 UTC  2019-08-21 04:52:50.33 UTC   \n",
       "4        hitec   2008-08-02 06:23:02.97 UTC  2019-08-21 04:52:50.33 UTC   \n",
       "\n",
       "  reputation  up_votes  down_votes  views  \n",
       "0       3241       145           7   1006  \n",
       "1       3241       145           7   1006  \n",
       "2       3241       145           7   1006  \n",
       "3        970       142           0    285  \n",
       "4        970       142           0    285  \n",
       "\n",
       "[5 rows x 21 columns]"
      ]
     },
     "execution_count": 52,
     "metadata": {},
     "output_type": "execute_result"
    }
   ],
   "source": [
    "inp1 = df_QATU\n",
    "inp1.head()"
   ]
  },
  {
   "cell_type": "code",
   "execution_count": null,
   "metadata": {},
   "outputs": [],
   "source": [
    "#Info about inp1 i.e. QATU dataframe "
   ]
  },
  {
   "cell_type": "code",
   "execution_count": 104,
   "metadata": {
    "colab": {
     "base_uri": "https://localhost:8080/",
     "height": 510
    },
    "colab_type": "code",
    "id": "iRKO22UKpZLV",
    "outputId": "6d111622-b66e-4c86-98f6-278e4e05574e"
   },
   "outputs": [
    {
     "name": "stdout",
     "output_type": "stream",
     "text": [
      "<class 'pandas.core.frame.DataFrame'>\n",
      "Int64Index: 2081447 entries, 0 to 2081446\n",
      "Data columns (total 22 columns):\n",
      " #   Column            Dtype         \n",
      "---  ------            -----         \n",
      " 0   Id_x              object        \n",
      " 1   OwnerUserId_x     object        \n",
      " 2   CreationDate_x    datetime64[ns]\n",
      " 3   ClosedDate        object        \n",
      " 4   Score_x           float64       \n",
      " 5   Title             object        \n",
      " 6   Id_y              object        \n",
      " 7   OwnerUserId_y     object        \n",
      " 8   CreationDate_y    datetime64[ns]\n",
      " 9   ParentId          object        \n",
      " 10  Score_y           float64       \n",
      " 11  Id                object        \n",
      " 12  Tag               object        \n",
      " 13  id                object        \n",
      " 14  display_name      object        \n",
      " 15  creation_date     object        \n",
      " 16  last_access_date  object        \n",
      " 17  reputation        int64         \n",
      " 18  up_votes          int64         \n",
      " 19  down_votes        int64         \n",
      " 20  views             int64         \n",
      " 21  time_diff_x_days  object        \n",
      "dtypes: datetime64[ns](2), float64(2), int64(4), object(14)\n",
      "memory usage: 365.2+ MB\n"
     ]
    }
   ],
   "source": [
    "inp1.info()"
   ]
  },
  {
   "cell_type": "markdown",
   "metadata": {},
   "source": [
    "### Preparation for Case study Objective 2 [Getting Creation date for both question and answer to give us insight on time difference and finally will tell us expected for datascience tags]"
   ]
  },
  {
   "cell_type": "code",
   "execution_count": 54,
   "metadata": {
    "colab": {},
    "colab_type": "code",
    "id": "Qljhdf1ppCyq"
   },
   "outputs": [],
   "source": [
    "inp1[\"CreationDate_x\"]=inp1[\"CreationDate_x\"].apply(lambda x: str(x).split(\"T\")[0])"
   ]
  },
  {
   "cell_type": "code",
   "execution_count": 55,
   "metadata": {
    "colab": {},
    "colab_type": "code",
    "id": "LZ3t-flxqxH1"
   },
   "outputs": [],
   "source": [
    "inp1[\"CreationDate_y\"]=inp1[\"CreationDate_y\"].apply(lambda x: str(x).split(\"T\")[0])"
   ]
  },
  {
   "cell_type": "code",
   "execution_count": 56,
   "metadata": {
    "colab": {},
    "colab_type": "code",
    "id": "LYO0MmearMO0"
   },
   "outputs": [],
   "source": [
    "inp1[\"CreationDate_x\"] = pd.to_datetime(inp1[\"CreationDate_x\"])\n",
    "\n",
    "inp1[\"CreationDate_y\"] = pd.to_datetime(inp1[\"CreationDate_y\"])"
   ]
  },
  {
   "cell_type": "code",
   "execution_count": 57,
   "metadata": {
    "colab": {},
    "colab_type": "code",
    "id": "5Ndgze0lruDG"
   },
   "outputs": [],
   "source": [
    "inp1[\"time_diff_x_days\"] = inp1[\"CreationDate_y\"] - inp1[\"CreationDate_x\"]\n"
   ]
  },
  {
   "cell_type": "code",
   "execution_count": 58,
   "metadata": {
    "colab": {
     "base_uri": "https://localhost:8080/",
     "height": 383
    },
    "colab_type": "code",
    "id": "dQEdY9AxsK-a",
    "outputId": "649712f1-9a77-41e6-fcf4-8c144370c05f"
   },
   "outputs": [
    {
     "data": {
      "text/html": [
       "<div>\n",
       "<style scoped>\n",
       "    .dataframe tbody tr th:only-of-type {\n",
       "        vertical-align: middle;\n",
       "    }\n",
       "\n",
       "    .dataframe tbody tr th {\n",
       "        vertical-align: top;\n",
       "    }\n",
       "\n",
       "    .dataframe thead th {\n",
       "        text-align: right;\n",
       "    }\n",
       "</style>\n",
       "<table border=\"1\" class=\"dataframe\">\n",
       "  <thead>\n",
       "    <tr style=\"text-align: right;\">\n",
       "      <th></th>\n",
       "      <th>Id_x</th>\n",
       "      <th>OwnerUserId_x</th>\n",
       "      <th>CreationDate_x</th>\n",
       "      <th>ClosedDate</th>\n",
       "      <th>Score_x</th>\n",
       "      <th>Title</th>\n",
       "      <th>Id_y</th>\n",
       "      <th>OwnerUserId_y</th>\n",
       "      <th>CreationDate_y</th>\n",
       "      <th>ParentId</th>\n",
       "      <th>...</th>\n",
       "      <th>Tag</th>\n",
       "      <th>id</th>\n",
       "      <th>display_name</th>\n",
       "      <th>creation_date</th>\n",
       "      <th>last_access_date</th>\n",
       "      <th>reputation</th>\n",
       "      <th>up_votes</th>\n",
       "      <th>down_votes</th>\n",
       "      <th>views</th>\n",
       "      <th>time_diff_x_days</th>\n",
       "    </tr>\n",
       "  </thead>\n",
       "  <tbody>\n",
       "    <tr>\n",
       "      <th>0</th>\n",
       "      <td>80</td>\n",
       "      <td>26</td>\n",
       "      <td>2008-08-01</td>\n",
       "      <td>NaN</td>\n",
       "      <td>26.0</td>\n",
       "      <td>SQLStatement.execute() - multiple queries in o...</td>\n",
       "      <td>124</td>\n",
       "      <td>26</td>\n",
       "      <td>2008-08-01</td>\n",
       "      <td>80</td>\n",
       "      <td>...</td>\n",
       "      <td>flex,actionscript-3,air</td>\n",
       "      <td>80</td>\n",
       "      <td>alumb</td>\n",
       "      <td>2008-08-01 16:11:11.427 UTC</td>\n",
       "      <td>2019-08-30 16:34:24.06 UTC</td>\n",
       "      <td>3241</td>\n",
       "      <td>145</td>\n",
       "      <td>7</td>\n",
       "      <td>1006</td>\n",
       "      <td>0 days</td>\n",
       "    </tr>\n",
       "    <tr>\n",
       "      <th>1</th>\n",
       "      <td>80</td>\n",
       "      <td>26</td>\n",
       "      <td>2008-08-01</td>\n",
       "      <td>NaN</td>\n",
       "      <td>26.0</td>\n",
       "      <td>SQLStatement.execute() - multiple queries in o...</td>\n",
       "      <td>10008</td>\n",
       "      <td>1109</td>\n",
       "      <td>2008-08-13</td>\n",
       "      <td>80</td>\n",
       "      <td>...</td>\n",
       "      <td>flex,actionscript-3,air</td>\n",
       "      <td>80</td>\n",
       "      <td>alumb</td>\n",
       "      <td>2008-08-01 16:11:11.427 UTC</td>\n",
       "      <td>2019-08-30 16:34:24.06 UTC</td>\n",
       "      <td>3241</td>\n",
       "      <td>145</td>\n",
       "      <td>7</td>\n",
       "      <td>1006</td>\n",
       "      <td>12 days</td>\n",
       "    </tr>\n",
       "    <tr>\n",
       "      <th>2</th>\n",
       "      <td>80</td>\n",
       "      <td>26</td>\n",
       "      <td>2008-08-01</td>\n",
       "      <td>NaN</td>\n",
       "      <td>26.0</td>\n",
       "      <td>SQLStatement.execute() - multiple queries in o...</td>\n",
       "      <td>3770976</td>\n",
       "      <td>364174</td>\n",
       "      <td>2010-09-22</td>\n",
       "      <td>80</td>\n",
       "      <td>...</td>\n",
       "      <td>flex,actionscript-3,air</td>\n",
       "      <td>80</td>\n",
       "      <td>alumb</td>\n",
       "      <td>2008-08-01 16:11:11.427 UTC</td>\n",
       "      <td>2019-08-30 16:34:24.06 UTC</td>\n",
       "      <td>3241</td>\n",
       "      <td>145</td>\n",
       "      <td>7</td>\n",
       "      <td>1006</td>\n",
       "      <td>782 days</td>\n",
       "    </tr>\n",
       "    <tr>\n",
       "      <th>3</th>\n",
       "      <td>120</td>\n",
       "      <td>83</td>\n",
       "      <td>2008-08-01</td>\n",
       "      <td>NaN</td>\n",
       "      <td>21.0</td>\n",
       "      <td>ASP.NET Site Maps</td>\n",
       "      <td>124363</td>\n",
       "      <td>12734</td>\n",
       "      <td>2008-09-23</td>\n",
       "      <td>120</td>\n",
       "      <td>...</td>\n",
       "      <td>sql,asp.net,sitemap</td>\n",
       "      <td>120</td>\n",
       "      <td>hitec</td>\n",
       "      <td>2008-08-02 06:23:02.97 UTC</td>\n",
       "      <td>2019-08-21 04:52:50.33 UTC</td>\n",
       "      <td>970</td>\n",
       "      <td>142</td>\n",
       "      <td>0</td>\n",
       "      <td>285</td>\n",
       "      <td>53 days</td>\n",
       "    </tr>\n",
       "    <tr>\n",
       "      <th>4</th>\n",
       "      <td>120</td>\n",
       "      <td>83</td>\n",
       "      <td>2008-08-01</td>\n",
       "      <td>NaN</td>\n",
       "      <td>21.0</td>\n",
       "      <td>ASP.NET Site Maps</td>\n",
       "      <td>124363</td>\n",
       "      <td>12734</td>\n",
       "      <td>2008-09-23</td>\n",
       "      <td>120</td>\n",
       "      <td>...</td>\n",
       "      <td>sql,asp.net,sitemap</td>\n",
       "      <td>120</td>\n",
       "      <td>hitec</td>\n",
       "      <td>2008-08-02 06:23:02.97 UTC</td>\n",
       "      <td>2019-08-21 04:52:50.33 UTC</td>\n",
       "      <td>970</td>\n",
       "      <td>142</td>\n",
       "      <td>0</td>\n",
       "      <td>285</td>\n",
       "      <td>53 days</td>\n",
       "    </tr>\n",
       "  </tbody>\n",
       "</table>\n",
       "<p>5 rows × 22 columns</p>\n",
       "</div>"
      ],
      "text/plain": [
       "  Id_x OwnerUserId_x CreationDate_x ClosedDate  Score_x  \\\n",
       "0   80            26     2008-08-01        NaN     26.0   \n",
       "1   80            26     2008-08-01        NaN     26.0   \n",
       "2   80            26     2008-08-01        NaN     26.0   \n",
       "3  120            83     2008-08-01        NaN     21.0   \n",
       "4  120            83     2008-08-01        NaN     21.0   \n",
       "\n",
       "                                               Title     Id_y OwnerUserId_y  \\\n",
       "0  SQLStatement.execute() - multiple queries in o...      124            26   \n",
       "1  SQLStatement.execute() - multiple queries in o...    10008          1109   \n",
       "2  SQLStatement.execute() - multiple queries in o...  3770976        364174   \n",
       "3                                  ASP.NET Site Maps   124363         12734   \n",
       "4                                  ASP.NET Site Maps   124363         12734   \n",
       "\n",
       "  CreationDate_y ParentId  ...                      Tag   id display_name  \\\n",
       "0     2008-08-01       80  ...  flex,actionscript-3,air   80        alumb   \n",
       "1     2008-08-13       80  ...  flex,actionscript-3,air   80        alumb   \n",
       "2     2010-09-22       80  ...  flex,actionscript-3,air   80        alumb   \n",
       "3     2008-09-23      120  ...      sql,asp.net,sitemap  120        hitec   \n",
       "4     2008-09-23      120  ...      sql,asp.net,sitemap  120        hitec   \n",
       "\n",
       "                 creation_date            last_access_date reputation  \\\n",
       "0  2008-08-01 16:11:11.427 UTC  2019-08-30 16:34:24.06 UTC       3241   \n",
       "1  2008-08-01 16:11:11.427 UTC  2019-08-30 16:34:24.06 UTC       3241   \n",
       "2  2008-08-01 16:11:11.427 UTC  2019-08-30 16:34:24.06 UTC       3241   \n",
       "3   2008-08-02 06:23:02.97 UTC  2019-08-21 04:52:50.33 UTC        970   \n",
       "4   2008-08-02 06:23:02.97 UTC  2019-08-21 04:52:50.33 UTC        970   \n",
       "\n",
       "  up_votes  down_votes  views  time_diff_x_days  \n",
       "0      145           7   1006            0 days  \n",
       "1      145           7   1006           12 days  \n",
       "2      145           7   1006          782 days  \n",
       "3      142           0    285           53 days  \n",
       "4      142           0    285           53 days  \n",
       "\n",
       "[5 rows x 22 columns]"
      ]
     },
     "execution_count": 58,
     "metadata": {},
     "output_type": "execute_result"
    }
   ],
   "source": [
    "inp1.head()"
   ]
  },
  {
   "cell_type": "code",
   "execution_count": 59,
   "metadata": {
    "colab": {},
    "colab_type": "code",
    "id": "gb7kfdYksMjz"
   },
   "outputs": [],
   "source": [
    "inp1[\"time_diff_x_days\"] = inp1[\"time_diff_x_days\"].apply(lambda x: str(x).split(\" \")[0])"
   ]
  },
  {
   "cell_type": "code",
   "execution_count": 60,
   "metadata": {
    "colab": {
     "base_uri": "https://localhost:8080/",
     "height": 383
    },
    "colab_type": "code",
    "id": "vp6fpgSts7Dz",
    "outputId": "2da62a41-5675-41ac-a4fe-3ead12290f3e"
   },
   "outputs": [
    {
     "data": {
      "text/html": [
       "<div>\n",
       "<style scoped>\n",
       "    .dataframe tbody tr th:only-of-type {\n",
       "        vertical-align: middle;\n",
       "    }\n",
       "\n",
       "    .dataframe tbody tr th {\n",
       "        vertical-align: top;\n",
       "    }\n",
       "\n",
       "    .dataframe thead th {\n",
       "        text-align: right;\n",
       "    }\n",
       "</style>\n",
       "<table border=\"1\" class=\"dataframe\">\n",
       "  <thead>\n",
       "    <tr style=\"text-align: right;\">\n",
       "      <th></th>\n",
       "      <th>Id_x</th>\n",
       "      <th>OwnerUserId_x</th>\n",
       "      <th>CreationDate_x</th>\n",
       "      <th>ClosedDate</th>\n",
       "      <th>Score_x</th>\n",
       "      <th>Title</th>\n",
       "      <th>Id_y</th>\n",
       "      <th>OwnerUserId_y</th>\n",
       "      <th>CreationDate_y</th>\n",
       "      <th>ParentId</th>\n",
       "      <th>...</th>\n",
       "      <th>Tag</th>\n",
       "      <th>id</th>\n",
       "      <th>display_name</th>\n",
       "      <th>creation_date</th>\n",
       "      <th>last_access_date</th>\n",
       "      <th>reputation</th>\n",
       "      <th>up_votes</th>\n",
       "      <th>down_votes</th>\n",
       "      <th>views</th>\n",
       "      <th>time_diff_x_days</th>\n",
       "    </tr>\n",
       "  </thead>\n",
       "  <tbody>\n",
       "    <tr>\n",
       "      <th>0</th>\n",
       "      <td>80</td>\n",
       "      <td>26</td>\n",
       "      <td>2008-08-01</td>\n",
       "      <td>NaN</td>\n",
       "      <td>26.0</td>\n",
       "      <td>SQLStatement.execute() - multiple queries in o...</td>\n",
       "      <td>124</td>\n",
       "      <td>26</td>\n",
       "      <td>2008-08-01</td>\n",
       "      <td>80</td>\n",
       "      <td>...</td>\n",
       "      <td>flex,actionscript-3,air</td>\n",
       "      <td>80</td>\n",
       "      <td>alumb</td>\n",
       "      <td>2008-08-01 16:11:11.427 UTC</td>\n",
       "      <td>2019-08-30 16:34:24.06 UTC</td>\n",
       "      <td>3241</td>\n",
       "      <td>145</td>\n",
       "      <td>7</td>\n",
       "      <td>1006</td>\n",
       "      <td>0</td>\n",
       "    </tr>\n",
       "    <tr>\n",
       "      <th>1</th>\n",
       "      <td>80</td>\n",
       "      <td>26</td>\n",
       "      <td>2008-08-01</td>\n",
       "      <td>NaN</td>\n",
       "      <td>26.0</td>\n",
       "      <td>SQLStatement.execute() - multiple queries in o...</td>\n",
       "      <td>10008</td>\n",
       "      <td>1109</td>\n",
       "      <td>2008-08-13</td>\n",
       "      <td>80</td>\n",
       "      <td>...</td>\n",
       "      <td>flex,actionscript-3,air</td>\n",
       "      <td>80</td>\n",
       "      <td>alumb</td>\n",
       "      <td>2008-08-01 16:11:11.427 UTC</td>\n",
       "      <td>2019-08-30 16:34:24.06 UTC</td>\n",
       "      <td>3241</td>\n",
       "      <td>145</td>\n",
       "      <td>7</td>\n",
       "      <td>1006</td>\n",
       "      <td>12</td>\n",
       "    </tr>\n",
       "    <tr>\n",
       "      <th>2</th>\n",
       "      <td>80</td>\n",
       "      <td>26</td>\n",
       "      <td>2008-08-01</td>\n",
       "      <td>NaN</td>\n",
       "      <td>26.0</td>\n",
       "      <td>SQLStatement.execute() - multiple queries in o...</td>\n",
       "      <td>3770976</td>\n",
       "      <td>364174</td>\n",
       "      <td>2010-09-22</td>\n",
       "      <td>80</td>\n",
       "      <td>...</td>\n",
       "      <td>flex,actionscript-3,air</td>\n",
       "      <td>80</td>\n",
       "      <td>alumb</td>\n",
       "      <td>2008-08-01 16:11:11.427 UTC</td>\n",
       "      <td>2019-08-30 16:34:24.06 UTC</td>\n",
       "      <td>3241</td>\n",
       "      <td>145</td>\n",
       "      <td>7</td>\n",
       "      <td>1006</td>\n",
       "      <td>782</td>\n",
       "    </tr>\n",
       "    <tr>\n",
       "      <th>3</th>\n",
       "      <td>120</td>\n",
       "      <td>83</td>\n",
       "      <td>2008-08-01</td>\n",
       "      <td>NaN</td>\n",
       "      <td>21.0</td>\n",
       "      <td>ASP.NET Site Maps</td>\n",
       "      <td>124363</td>\n",
       "      <td>12734</td>\n",
       "      <td>2008-09-23</td>\n",
       "      <td>120</td>\n",
       "      <td>...</td>\n",
       "      <td>sql,asp.net,sitemap</td>\n",
       "      <td>120</td>\n",
       "      <td>hitec</td>\n",
       "      <td>2008-08-02 06:23:02.97 UTC</td>\n",
       "      <td>2019-08-21 04:52:50.33 UTC</td>\n",
       "      <td>970</td>\n",
       "      <td>142</td>\n",
       "      <td>0</td>\n",
       "      <td>285</td>\n",
       "      <td>53</td>\n",
       "    </tr>\n",
       "    <tr>\n",
       "      <th>4</th>\n",
       "      <td>120</td>\n",
       "      <td>83</td>\n",
       "      <td>2008-08-01</td>\n",
       "      <td>NaN</td>\n",
       "      <td>21.0</td>\n",
       "      <td>ASP.NET Site Maps</td>\n",
       "      <td>124363</td>\n",
       "      <td>12734</td>\n",
       "      <td>2008-09-23</td>\n",
       "      <td>120</td>\n",
       "      <td>...</td>\n",
       "      <td>sql,asp.net,sitemap</td>\n",
       "      <td>120</td>\n",
       "      <td>hitec</td>\n",
       "      <td>2008-08-02 06:23:02.97 UTC</td>\n",
       "      <td>2019-08-21 04:52:50.33 UTC</td>\n",
       "      <td>970</td>\n",
       "      <td>142</td>\n",
       "      <td>0</td>\n",
       "      <td>285</td>\n",
       "      <td>53</td>\n",
       "    </tr>\n",
       "  </tbody>\n",
       "</table>\n",
       "<p>5 rows × 22 columns</p>\n",
       "</div>"
      ],
      "text/plain": [
       "  Id_x OwnerUserId_x CreationDate_x ClosedDate  Score_x  \\\n",
       "0   80            26     2008-08-01        NaN     26.0   \n",
       "1   80            26     2008-08-01        NaN     26.0   \n",
       "2   80            26     2008-08-01        NaN     26.0   \n",
       "3  120            83     2008-08-01        NaN     21.0   \n",
       "4  120            83     2008-08-01        NaN     21.0   \n",
       "\n",
       "                                               Title     Id_y OwnerUserId_y  \\\n",
       "0  SQLStatement.execute() - multiple queries in o...      124            26   \n",
       "1  SQLStatement.execute() - multiple queries in o...    10008          1109   \n",
       "2  SQLStatement.execute() - multiple queries in o...  3770976        364174   \n",
       "3                                  ASP.NET Site Maps   124363         12734   \n",
       "4                                  ASP.NET Site Maps   124363         12734   \n",
       "\n",
       "  CreationDate_y ParentId  ...                      Tag   id display_name  \\\n",
       "0     2008-08-01       80  ...  flex,actionscript-3,air   80        alumb   \n",
       "1     2008-08-13       80  ...  flex,actionscript-3,air   80        alumb   \n",
       "2     2010-09-22       80  ...  flex,actionscript-3,air   80        alumb   \n",
       "3     2008-09-23      120  ...      sql,asp.net,sitemap  120        hitec   \n",
       "4     2008-09-23      120  ...      sql,asp.net,sitemap  120        hitec   \n",
       "\n",
       "                 creation_date            last_access_date reputation  \\\n",
       "0  2008-08-01 16:11:11.427 UTC  2019-08-30 16:34:24.06 UTC       3241   \n",
       "1  2008-08-01 16:11:11.427 UTC  2019-08-30 16:34:24.06 UTC       3241   \n",
       "2  2008-08-01 16:11:11.427 UTC  2019-08-30 16:34:24.06 UTC       3241   \n",
       "3   2008-08-02 06:23:02.97 UTC  2019-08-21 04:52:50.33 UTC        970   \n",
       "4   2008-08-02 06:23:02.97 UTC  2019-08-21 04:52:50.33 UTC        970   \n",
       "\n",
       "  up_votes  down_votes  views  time_diff_x_days  \n",
       "0      145           7   1006                 0  \n",
       "1      145           7   1006                12  \n",
       "2      145           7   1006               782  \n",
       "3      142           0    285                53  \n",
       "4      142           0    285                53  \n",
       "\n",
       "[5 rows x 22 columns]"
      ]
     },
     "execution_count": 60,
     "metadata": {},
     "output_type": "execute_result"
    }
   ],
   "source": [
    "inp1.head()"
   ]
  },
  {
   "cell_type": "code",
   "execution_count": 61,
   "metadata": {
    "colab": {
     "base_uri": "https://localhost:8080/",
     "height": 527
    },
    "colab_type": "code",
    "id": "NeOVwtNH5IrM",
    "outputId": "b1bb8d85-fddf-4922-d62c-ac0ef2b0308a"
   },
   "outputs": [
    {
     "name": "stdout",
     "output_type": "stream",
     "text": [
      "<class 'pandas.core.frame.DataFrame'>\n",
      "Int64Index: 2081447 entries, 0 to 2081446\n",
      "Data columns (total 22 columns):\n",
      " #   Column            Dtype         \n",
      "---  ------            -----         \n",
      " 0   Id_x              object        \n",
      " 1   OwnerUserId_x     object        \n",
      " 2   CreationDate_x    datetime64[ns]\n",
      " 3   ClosedDate        object        \n",
      " 4   Score_x           float64       \n",
      " 5   Title             object        \n",
      " 6   Id_y              object        \n",
      " 7   OwnerUserId_y     object        \n",
      " 8   CreationDate_y    datetime64[ns]\n",
      " 9   ParentId          object        \n",
      " 10  Score_y           float64       \n",
      " 11  Id                object        \n",
      " 12  Tag               object        \n",
      " 13  id                object        \n",
      " 14  display_name      object        \n",
      " 15  creation_date     object        \n",
      " 16  last_access_date  object        \n",
      " 17  reputation        int64         \n",
      " 18  up_votes          int64         \n",
      " 19  down_votes        int64         \n",
      " 20  views             int64         \n",
      " 21  time_diff_x_days  object        \n",
      "dtypes: datetime64[ns](2), float64(2), int64(4), object(14)\n",
      "memory usage: 365.2+ MB\n"
     ]
    }
   ],
   "source": [
    "inp1.info()"
   ]
  },
  {
   "cell_type": "markdown",
   "metadata": {
    "colab": {},
    "colab_type": "code",
    "id": "B4KB5b6hzRQv"
   },
   "source": [
    "### Case Study Objective 2 : How much expected time to reosolve or get answer for a question with Data science tags ['python', 'r', 'matlab', 'sas', 'excel', 'sql'] "
   ]
  },
  {
   "cell_type": "code",
   "execution_count": 64,
   "metadata": {
    "colab": {
     "base_uri": "https://localhost:8080/",
     "height": 122
    },
    "colab_type": "code",
    "id": "PHmyCLoQDjNy",
    "outputId": "d9d31283-c22e-4a56-cf7a-998b51d057bb"
   },
   "outputs": [
    {
     "name": "stdout",
     "output_type": "stream",
     "text": [
      "Time to resolve datascience questions having  python 0.0 days\n",
      "Time to resolve datascience questions having  r 0.0 days\n",
      "Time to resolve datascience questions having  matlab 3.0 days\n",
      "Time to resolve datascience questions having  sas nan days\n",
      "Time to resolve datascience questions having  excel 0.0 days\n",
      "Time to resolve datascience questions having  sql 0.0 days\n"
     ]
    }
   ],
   "source": [
    "for i in ['python', 'r', 'matlab', 'sas', 'excel', 'sql']:\n",
    "  print(\"Time to resolve datascience questions having \",i,inp1[inp1.Tag == i].time_diff_x_days.median(),\"days\")"
   ]
  },
  {
   "cell_type": "code",
   "execution_count": 65,
   "metadata": {
    "colab": {},
    "colab_type": "code",
    "id": "LYNKlLQBtiBy"
   },
   "outputs": [],
   "source": [
    "#Famous Usernames [Some Analysis for Famous Users]"
   ]
  },
  {
   "cell_type": "code",
   "execution_count": 66,
   "metadata": {
    "colab": {
     "base_uri": "https://localhost:8080/",
     "height": 863
    },
    "colab_type": "code",
    "id": "4cv3DrfIw4s9",
    "outputId": "8ad08c64-95ea-4d5e-c5a4-4db003c37fe3"
   },
   "outputs": [
    {
     "data": {
      "image/png": "[encoded data removed]",
      "text/plain": [
       "<Figure size 1080x1080 with 1 Axes>"
      ]
     },
     "metadata": {
      "needs_background": "light"
     },
     "output_type": "display_data"
    }
   ],
   "source": [
    "plt.figure(figsize =[15,15])\n",
    "inp1[\"display_name\"].value_counts().head(50).plot.barh()\n",
    "plt.show()"
   ]
  },
  {
   "cell_type": "code",
   "execution_count": 67,
   "metadata": {
    "colab": {},
    "colab_type": "code",
    "id": "QDeGF1p75XJJ"
   },
   "outputs": [],
   "source": [
    "#Display Name with Views"
   ]
  },
  {
   "cell_type": "code",
   "execution_count": 68,
   "metadata": {
    "colab": {
     "base_uri": "https://localhost:8080/",
     "height": 326
    },
    "colab_type": "code",
    "id": "crdw14QMvQjr",
    "outputId": "4206b762-1fab-492e-efe5-dc4dd91d67d9"
   },
   "outputs": [
    {
     "data": {
      "text/plain": [
       "<matplotlib.axes._subplots.AxesSubplot at 0x2223bf79e48>"
      ]
     },
     "execution_count": 68,
     "metadata": {},
     "output_type": "execute_result"
    },
    {
     "data": {
      "text/plain": [
       "<Figure size 1440x1440 with 0 Axes>"
      ]
     },
     "metadata": {},
     "output_type": "display_data"
    },
    {
     "data": {
      "image/png": "[encoded data removed]",
      "text/plain": [
       "<Figure size 432x288 with 1 Axes>"
      ]
     },
     "metadata": {
      "needs_background": "light"
     },
     "output_type": "display_data"
    }
   ],
   "source": [
    "plt.figure(figsize =[20,20])\n",
    "\n",
    "inp1.plot.line(x=\"display_name\", y = \"views\")"
   ]
  },
  {
   "cell_type": "code",
   "execution_count": 69,
   "metadata": {
    "colab": {},
    "colab_type": "code",
    "id": "KtpSMi2r3V1o"
   },
   "outputs": [],
   "source": [
    "#Userid with reputation"
   ]
  },
  {
   "cell_type": "code",
   "execution_count": 70,
   "metadata": {
    "colab": {
     "base_uri": "https://localhost:8080/",
     "height": 881
    },
    "colab_type": "code",
    "id": "1aKjY6Icd9Hs",
    "outputId": "e453504c-5433-4ef9-9e55-2c572958bc86"
   },
   "outputs": [
    {
     "data": {
      "text/plain": [
       "<matplotlib.axes._subplots.AxesSubplot at 0x2223be6bf48>"
      ]
     },
     "execution_count": 70,
     "metadata": {},
     "output_type": "execute_result"
    },
    {
     "data": {
      "image/png": "[encoded data removed]",
      "text/plain": [
       "<Figure size 1080x1080 with 1 Axes>"
      ]
     },
     "metadata": {
      "needs_background": "light"
     },
     "output_type": "display_data"
    }
   ],
   "source": [
    "plt.figure(figsize =[15,15])\n",
    "\n",
    "df_U.groupby([\"id\"]).reputation.value_counts().head(25).plot.barh()"
   ]
  },
  {
   "cell_type": "code",
   "execution_count": 71,
   "metadata": {
    "colab": {},
    "colab_type": "code",
    "id": "3PoGgeKCmPVp"
   },
   "outputs": [],
   "source": [
    "#WordCloud for Tags [This is working in google colab, not sure why not importing the same libararies in local jupyter notebook]"
   ]
  },
  {
   "cell_type": "code",
   "execution_count": 72,
   "metadata": {
    "colab": {
     "base_uri": "https://localhost:8080/",
     "height": 437
    },
    "colab_type": "code",
    "id": "oz52rzeGxUJO",
    "outputId": "54ed567e-ed30-402c-c99b-ba23e0874180"
   },
   "outputs": [
    {
     "ename": "NameError",
     "evalue": "name 'WordCloud' is not defined",
     "output_type": "error",
     "traceback": [
      "\u001b[1;31m---------------------------------------------------------------------------\u001b[0m",
      "\u001b[1;31mNameError\u001b[0m                                 Traceback (most recent call last)",
      "\u001b[1;32m<ipython-input-72-965dc9af1000>\u001b[0m in \u001b[0;36m<module>\u001b[1;34m\u001b[0m\n\u001b[0;32m      1\u001b[0m \u001b[0mTags\u001b[0m \u001b[1;33m=\u001b[0m \u001b[0mdf_QATU\u001b[0m\u001b[1;33m[\u001b[0m\u001b[0mdf_QATU\u001b[0m\u001b[1;33m[\u001b[0m\u001b[1;34m\"Tag\"\u001b[0m\u001b[1;33m]\u001b[0m\u001b[1;33m.\u001b[0m\u001b[0mnotnull\u001b[0m\u001b[1;33m(\u001b[0m\u001b[1;33m)\u001b[0m\u001b[1;33m]\u001b[0m\u001b[1;33m[\u001b[0m\u001b[1;34m\"Tag\"\u001b[0m\u001b[1;33m]\u001b[0m\u001b[1;33m.\u001b[0m\u001b[0mstr\u001b[0m\u001b[1;33m.\u001b[0m\u001b[0mreplace\u001b[0m\u001b[1;33m(\u001b[0m\u001b[1;34m\" \"\u001b[0m\u001b[1;33m,\u001b[0m\u001b[1;34m\"\"\u001b[0m\u001b[1;33m)\u001b[0m\u001b[1;33m\u001b[0m\u001b[1;33m\u001b[0m\u001b[0m\n\u001b[1;32m----> 2\u001b[1;33m \u001b[0mwc\u001b[0m \u001b[1;33m=\u001b[0m \u001b[0mWordCloud\u001b[0m\u001b[1;33m(\u001b[0m\u001b[0mbackground_color\u001b[0m\u001b[1;33m=\u001b[0m\u001b[1;34m\"black\"\u001b[0m\u001b[1;33m,\u001b[0m\u001b[0mcolormap\u001b[0m\u001b[1;33m=\u001b[0m\u001b[1;34m\"rainbow\"\u001b[0m\u001b[1;33m,\u001b[0m\u001b[0mscale\u001b[0m\u001b[1;33m=\u001b[0m\u001b[1;36m5\u001b[0m\u001b[1;33m)\u001b[0m\u001b[1;33m.\u001b[0m\u001b[0mgenerate\u001b[0m\u001b[1;33m(\u001b[0m\u001b[1;34m\" \"\u001b[0m\u001b[1;33m.\u001b[0m\u001b[0mjoin\u001b[0m\u001b[1;33m(\u001b[0m\u001b[0mTags\u001b[0m\u001b[1;33m)\u001b[0m\u001b[1;33m)\u001b[0m\u001b[1;33m\u001b[0m\u001b[1;33m\u001b[0m\u001b[0m\n\u001b[0m\u001b[0;32m      3\u001b[0m \u001b[0mplt\u001b[0m\u001b[1;33m.\u001b[0m\u001b[0mfigure\u001b[0m\u001b[1;33m(\u001b[0m\u001b[0mfigsize\u001b[0m\u001b[1;33m=\u001b[0m\u001b[1;33m(\u001b[0m\u001b[1;36m14\u001b[0m\u001b[1;33m,\u001b[0m\u001b[1;36m10\u001b[0m\u001b[1;33m)\u001b[0m\u001b[1;33m)\u001b[0m\u001b[1;33m\u001b[0m\u001b[1;33m\u001b[0m\u001b[0m\n\u001b[0;32m      4\u001b[0m \u001b[0mplt\u001b[0m\u001b[1;33m.\u001b[0m\u001b[0mimshow\u001b[0m\u001b[1;33m(\u001b[0m\u001b[0mwc\u001b[0m\u001b[1;33m,\u001b[0m\u001b[0minterpolation\u001b[0m\u001b[1;33m=\u001b[0m\u001b[1;34m\"bilinear\"\u001b[0m\u001b[1;33m)\u001b[0m\u001b[1;33m\u001b[0m\u001b[1;33m\u001b[0m\u001b[0m\n\u001b[0;32m      5\u001b[0m \u001b[0mplt\u001b[0m\u001b[1;33m.\u001b[0m\u001b[0maxis\u001b[0m\u001b[1;33m(\u001b[0m\u001b[1;34m\"off\"\u001b[0m\u001b[1;33m)\u001b[0m\u001b[1;33m\u001b[0m\u001b[1;33m\u001b[0m\u001b[0m\n",
      "\u001b[1;31mNameError\u001b[0m: name 'WordCloud' is not defined"
     ]
    }
   ],
   "source": [
    "Tags = df_QATU[df_QATU[\"Tag\"].notnull()][\"Tag\"].str.replace(\" \",\"\")\n",
    "wc = WordCloud(background_color=\"black\",colormap=\"rainbow\",scale=5).generate(\" \".join(Tags))\n",
    "plt.figure(figsize=(14,10))\n",
    "plt.imshow(wc,interpolation=\"bilinear\")\n",
    "plt.axis(\"off\")\n",
    "plt.title(\"Word Cloud for Tags\")\n",
    "plt.show()"
   ]
  },
  {
   "cell_type": "code",
   "execution_count": 77,
   "metadata": {
    "colab": {},
    "colab_type": "code",
    "id": "ddrV3e1ooV2C"
   },
   "outputs": [],
   "source": [
    "#25 most Popular Tags"
   ]
  },
  {
   "cell_type": "code",
   "execution_count": 78,
   "metadata": {
    "colab": {},
    "colab_type": "code",
    "id": "jEYHw8jWzhbS"
   },
   "outputs": [],
   "source": [
    "tags = list(df_T['Tag'].unique())\n",
    "all_tags = []\n",
    "for tag in df_T['Tag']:\n",
    "    all_tags += tag.split(',')"
   ]
  },
  {
   "cell_type": "code",
   "execution_count": 79,
   "metadata": {
    "colab": {},
    "colab_type": "code",
    "id": "d779SX8iz5F_"
   },
   "outputs": [],
   "source": [
    "count_tags = Counter(all_tags)\n",
    "tags = pd.DataFrame([list(count_tags.keys()), list(count_tags.values())])\n",
    "tags = tags.transpose()\n",
    "tags.columns = ['tag', 'count']\n",
    "tags = tags.sort_values(by='count', ascending=False)"
   ]
  },
  {
   "cell_type": "code",
   "execution_count": 80,
   "metadata": {
    "colab": {
     "base_uri": "https://localhost:8080/",
     "height": 295
    },
    "colab_type": "code",
    "id": "RRMJkkV9z5aF",
    "outputId": "16b9aafa-e94b-4bd8-af02-e9dd87dc594d"
   },
   "outputs": [
    {
     "data": {
      "image/png": "[encoded data removed]",
      "text/plain": [
       "<Figure size 432x288 with 1 Axes>"
      ]
     },
     "metadata": {
      "needs_background": "light"
     },
     "output_type": "display_data"
    }
   ],
   "source": [
    "plt.barh(list(tags['tag'])[:25], list(tags['count'])[:25])\n",
    "plt.ylabel('Tags')\n",
    "plt.xlabel('Tags Count')\n",
    "plt.title('25 Most Popular Tags')\n",
    "plt.show()"
   ]
  },
  {
   "cell_type": "code",
   "execution_count": 81,
   "metadata": {
    "colab": {},
    "colab_type": "code",
    "id": "i7seACoNz5tj"
   },
   "outputs": [],
   "source": [
    "#Popular Tags in data science ['python', 'r', 'matlab', 'sas', 'excel', 'sql']"
   ]
  },
  {
   "cell_type": "code",
   "execution_count": 82,
   "metadata": {
    "colab": {},
    "colab_type": "code",
    "id": "AtbwiNqBz5-y"
   },
   "outputs": [],
   "source": [
    "data_science_tags = ['python', 'r', 'matlab', 'sas', 'excel', 'sql']\n",
    "x = []\n",
    "y = []\n",
    "for tag in data_science_tags:\n",
    "    index = list(tags['tag']).index(tag)\n",
    "    x.append(tag)\n",
    "    y.append(list(tags['count'])[index])"
   ]
  },
  {
   "cell_type": "code",
   "execution_count": 83,
   "metadata": {
    "colab": {
     "base_uri": "https://localhost:8080/",
     "height": 295
    },
    "colab_type": "code",
    "id": "gJB-4gT9yp19",
    "outputId": "25f3adbc-8348-4e4d-9aef-6db7636fc623"
   },
   "outputs": [
    {
     "data": {
      "image/png": "[encoded data removed]",
      "text/plain": [
       "<Figure size 432x288 with 1 Axes>"
      ]
     },
     "metadata": {
      "needs_background": "light"
     },
     "output_type": "display_data"
    }
   ],
   "source": [
    "plt.bar(x, y)\n",
    "plt.ylabel('Tags Count')\n",
    "plt.xlabel('Tags')\n",
    "plt.title('Popularity of Data Science Tags')\n",
    "plt.show()"
   ]
  },
  {
   "cell_type": "markdown",
   "metadata": {
    "colab": {},
    "colab_type": "code",
    "id": "s1ZnOyCTkKMI"
   },
   "source": [
    "### Objective 1: For Datascience Tags ['python', 'r', 'matlab', 'sas', 'excel', 'sql'] relevant user Id to answer the questions"
   ]
  },
  {
   "cell_type": "code",
   "execution_count": 86,
   "metadata": {
    "colab": {
     "base_uri": "https://localhost:8080/",
     "height": 386
    },
    "colab_type": "code",
    "id": "yalFwxXg0gDs",
    "outputId": "f9ee8f95-e542-4eb0-edc0-d9e1eba447d2"
   },
   "outputs": [
    {
     "name": "stdout",
     "output_type": "stream",
     "text": [
      "OwnerUserId which can be contacted for  python ['46523' '773112' '20713' '2696' '18936' '10661' '81440' '893' '22364'\n",
      " '6372' '15154' '21886' '3002' '64045' '165216' '34813' '12855' '222758'\n",
      " '187103' '43089' '745' '117092' '95810' '53850' '121112' '9822' '124852'\n",
      " '148870' '6456' '223632' '44309' '131527' '101258' '15369' '1977903'\n",
      " '61974' '206417' '19966' '2237026' '8206' '182954' '2082964' '20862'\n",
      " '91962' '257465' '218196' '158897' '587021' '141555' '95592' '34088'\n",
      " '353790' '322806' '180239' '444397' '66229' '42346' '444036' '229602'\n",
      " '126214' '233096' '95852' '468327' '521034' '592851' '153133' '454229'\n",
      " '71522' '770038' '868488' '42973']\n",
      "OwnerUserId which can be contacted for  r ['428790' '176923' '430909' '415635' '614057' '509782' '1877267']\n",
      "OwnerUserId which can be contacted for  matlab ['1714410' '232610' '134830' '163080' '607120' '46439' '14946']\n",
      "OwnerUserId which can be contacted for  sas []\n",
      "OwnerUserId which can be contacted for  excel ['4' '25990' '25675' '11683']\n",
      "OwnerUserId which can be contacted for  sql ['1372' '2894' '2993' '1219' '2194' '2361' '4155' '1070' '999' '9034'\n",
      " '287746' '961333' '3590' '42518' '41360' '32632' '33178' '6199' '21632'\n",
      " '47496' '47556' '43901' '139077' '103532' '148952' '140204' '1831'\n",
      " '140899' '18393' '105662' '44853' '67168' '144351' '2456280' '99594'\n",
      " '136819' '479858' '152648' '135152' '13302' '145190' '51197' '88558'\n",
      " '55159' '132364' '1413513' '181765' '218589' '267318' '267153' '222908'\n",
      " '131595' '1395535' '280222' '23574' '52515' '69083' '286888' '295427'\n",
      " '215568' '144491' '480281' '399037' '151019' '740' '181969']\n"
     ]
    }
   ],
   "source": [
    "for i in ['python', 'r', 'matlab', 'sas', 'excel', 'sql']:\n",
    "  print(\"OwnerUserId which can be contacted for \",i,inp1[inp1.Tag == i].OwnerUserId_y.unique())"
   ]
  },
  {
   "cell_type": "markdown",
   "metadata": {
    "colab": {},
    "colab_type": "code",
    "id": "RtzZ4LZDhdbs"
   },
   "source": [
    "### Objective 3 : For Datascience Tags ['python', 'r', 'matlab', 'sas', 'excel', 'sql'] relevant user anwers already existing can be provided to  question as suggestion till the time relevant user answers the questions in Objective 1"
   ]
  },
  {
   "cell_type": "code",
   "execution_count": 107,
   "metadata": {
    "colab": {
     "base_uri": "https://localhost:8080/",
     "height": 492
    },
    "colab_type": "code",
    "id": "erc20_N417qk",
    "outputId": "a1d0c201-f7a4-41e7-c002-7b34311e1b3c"
   },
   "outputs": [
    {
     "name": "stdout",
     "output_type": "stream",
     "text": [
      "Answers which can be provided as suggestions to the users for  python ['482423' '6385389' '668582' '722650' '722653' '722696' '724665' '823057'\n",
      " '823072' '823077' '823079' '1030083' '1030085' '1030147' '1448834'\n",
      " '1448842' '1448844' '18036492' '1544370' '1544398' '1544584' '1544637'\n",
      " '1544682' '1594175' '1857835' '1857906' '1954701' '1954739' '1954796'\n",
      " '1954848' '1964756' '1964764' '1964831' '2024674' '2396361' '2396377'\n",
      " '2396447' '2566853' '2566885' '2570707' '2570709' '2570801' '2571112'\n",
      " '28082941' '2574090' '2574230' '31425911' '2576337' '2576341' '2576420'\n",
      " '3003411' '3003461' '3005565' '3008252' '3159130' '3159152' '30928240'\n",
      " '3391956' '3391957' '3685022' '3685050' '3685083' '3685100' '3685148'\n",
      " '3951850' '3984264' '3984312' '3984333' '3984359' '4562621' '4844974'\n",
      " '5827019' '5827020' '5827027' '5827046' '5827078' '5827090' '5890152'\n",
      " '6879492' '6879807' '6881810']\n",
      "Answers which can be provided as suggestions to the users for  r ['3661813' '4369796' '5422225' '5422230' '5422235' '5424440' '16923073'\n",
      " '24206716']\n",
      "Answers which can be provided as suggestions to the users for  matlab ['16459864' '2944258' '2967486' '2968009' '4926645' '4564586' '5258781']\n",
      "Answers which can be provided as suggestions to the users for  sas []\n",
      "Answers which can be provided as suggestions to the users for  excel ['260297' '260316' '260900' '743391']\n",
      "Answers which can be provided as suggestions to the users for  sql ['42628' '42629' '42631' '42632' '42639' '42644' '42650' '43448' '43461'\n",
      " '364408' '7122445' '8297929' '378074' '378075' '378108' '378150' '378223'\n",
      " '378340' '378520' '378710' '379463' '379676' '1218632' '1218637'\n",
      " '1218642' '1218766' '1219009' '1220163' '1225194' '1225199' '1225204'\n",
      " '1225205' '1225250' '16943438' '1414448' '1497110' '9929820' '14159261'\n",
      " '1727130' '1727497' '1727520' '2161623' '2161624' '2161667' '2161692'\n",
      " '38952118' '2209636' '2209648' '2209749' '2236524' '2236546' '2287735'\n",
      " '2446094' '10596202' '2460695' '2460696' '2460710' '2460742' '2460813'\n",
      " '2461037' '4245355' '4245367' '4245418' '4245421' '4247467' '5820503'\n",
      " '5820504' '5820512']\n"
     ]
    }
   ],
   "source": [
    "obj3 =[]\n",
    "\n",
    "for i in ['python', 'r', 'matlab', 'sas', 'excel', 'sql']:\n",
    "  print(\"Answers which can be provided as suggestions to the users for \",i,inp1[inp1.Tag == i].Id_y.unique())"
   ]
  },
  {
   "cell_type": "code",
   "execution_count": null,
   "metadata": {},
   "outputs": [],
   "source": [
    "#Stroing the results into Amazon RDS Database Instance"
   ]
  },
  {
   "cell_type": "code",
   "execution_count": null,
   "metadata": {
    "colab": {},
    "colab_type": "code",
    "id": "xXdBKADW2ZiV"
   },
   "outputs": [],
   "source": [
    "!pip3 install mysql-connector --user"
   ]
  },
  {
   "cell_type": "code",
   "execution_count": null,
   "metadata": {},
   "outputs": [],
   "source": [
    "import mysql.connector\n",
    "\n",
    "dbc = mysql.connector.connect(\n",
    "host = \"database-1.ckmft6y0jvbb.us-east-1.rds.amazonaws.com\",\n",
    "    user = \"admin\",\n",
    "    passwd =\"vipluv@04\",\n",
    "    port =\"3306\"\n",
    "    db = \"database-1\"\n",
    ")"
   ]
  },
  {
   "cell_type": "code",
   "execution_count": null,
   "metadata": {},
   "outputs": [],
   "source": [
    "cur = dbc.cursor()"
   ]
  },
  {
   "cell_type": "code",
   "execution_count": null,
   "metadata": {},
   "outputs": [],
   "source": [
    "##Create table to put the values"
   ]
  },
  {
   "cell_type": "code",
   "execution_count": null,
   "metadata": {},
   "outputs": [],
   "source": [
    "cur.execute(\"CREATE TABLE stackoverflow (Obj1 VARCHAR(255), Obj2 VARCHAR(255), Obj3 VARCHAR(255))\")"
   ]
  },
  {
   "cell_type": "code",
   "execution_count": null,
   "metadata": {},
   "outputs": [],
   "source": [
    "##Inserting values into table"
   ]
  },
  {
   "cell_type": "code",
   "execution_count": null,
   "metadata": {},
   "outputs": [],
   "source": [
    "sql = \"INSERT INTO stackoverflow(obj1,obj2,obj3) VALUES (%s,%s,%s)\"\n",
    "\n",
    "val = (ans1, ans2, ans3)\n",
    "\n",
    "cur.execute(sql, val)"
   ]
  },
  {
   "cell_type": "code",
   "execution_count": null,
   "metadata": {},
   "outputs": [],
   "source": [
    "##Selecting Reading data from table"
   ]
  },
  {
   "cell_type": "code",
   "execution_count": null,
   "metadata": {},
   "outputs": [],
   "source": [
    "cur.execute(\"SELECT obj1,obj2,obj3 FROM stackoverflow\")\n",
    "\n",
    "result = cur.fetchall"
   ]
  },
  {
   "cell_type": "code",
   "execution_count": null,
   "metadata": {},
   "outputs": [],
   "source": [
    "##Printing the result"
   ]
  },
  {
   "cell_type": "code",
   "execution_count": null,
   "metadata": {},
   "outputs": [],
   "source": [
    "print(result)"
   ]
  },
  {
   "cell_type": "code",
   "execution_count": null,
   "metadata": {},
   "outputs": [],
   "source": []
  }
 ],
 "metadata": {
  "colab": {
   "collapsed_sections": [],
   "name": "StackOverflow_Notebook_Ankur.ipynb",
   "provenance": []
  },
  "kernelspec": {
   "display_name": "Python 3",
   "language": "python",
   "name": "python3"
  },
  "language_info": {
   "codemirror_mode": {
    "name": "ipython",
    "version": 3
   },
   "file_extension": ".py",
   "mimetype": "text/x-python",
   "name": "python",
   "nbconvert_exporter": "python",
   "pygments_lexer": "ipython3",
   "version": "3.7.6"
  }
 },
 "nbformat": 4,
 "nbformat_minor": 1
}
